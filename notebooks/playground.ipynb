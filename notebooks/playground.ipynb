{
 "cells": [
  {
   "cell_type": "code",
   "execution_count": 33,
   "metadata": {},
   "outputs": [],
   "source": [
    "import sys\n",
    "sys.path.append('../')\n",
    "sys.path.insert(0, '../terrace')\n",
    "\n",
    "%load_ext autoreload\n",
    "%autoreload 2"
   ]
  },
  {
   "cell_type": "code",
   "execution_count": 34,
   "metadata": {},
   "outputs": [],
   "source": [
    "from tqdm import tqdm\n",
    "from copy import deepcopy\n",
    "import torch\n",
    "import torch.nn as nn\n",
    "import torch.nn.functional as F\n",
    "import rdkit\n",
    "import pandas as pd\n",
    "from rdkit import Chem\n",
    "from rdkit.Chem import AllChem\n",
    "from common.cfg_utils import get_config\n",
    "from common.metrics import *\n",
    "from common.losses import *\n",
    "from common.cfg_utils import *\n",
    "from common.old_routine import *\n",
    "from datasets.make_dataset import *\n",
    "from models.gnn_bind import *\n",
    "from models.learnable_ff import LearnableFF\n",
    "from routines.ai_routine import *\n",
    "from terrace.batch import *\n",
    "from terrace.type_data import *\n",
    "from terrace.comp_node import *\n",
    "from torchmetrics import *\n",
    "from datasets.data_types import *\n",
    "from models.val_model import *\n",
    "from datasets.bigbind_screen import *\n",
    "from datasets.lit_pcba import *\n",
    "import matplotlib.pyplot as plt\n",
    "import seaborn as sns\n",
    "import torch\n",
    "from common.cache import *\n",
    "from glob import glob\n",
    "import wandb\n",
    "from git_timewarp import GitTimeWarp"
   ]
  },
  {
   "cell_type": "code",
   "execution_count": 3,
   "metadata": {},
   "outputs": [
    {
     "data": {
      "text/plain": [
       "28"
      ]
     },
     "execution_count": 3,
     "metadata": {},
     "output_type": "execute_result"
    }
   ],
   "source": [
    "cfg = get_config(\"../configs\", \"short_thicc_op_gnn\")\n",
    "cfg.data.sna_frac = 1\n",
    "cfg.data.cache = False\n",
    "cfg.data.use_rec = True\n",
    "cfg.data.use_lig = False\n",
    "loader = make_dataloader(cfg, \"val\")\n",
    "in_node = Input(loader.get_type_data())\n",
    "len(loader.dataset[1000].lig.ndata)"
   ]
  },
  {
   "cell_type": "code",
   "execution_count": 138,
   "metadata": {},
   "outputs": [],
   "source": [
    "csv_dict = {\n",
    "    (\"LIT-PCBA\", \"gnina\"): \"screen_lit_pcba_test_gnina.csv\",\n",
    "    (\"LIT-PCBA\", \"e2ebind\"): \"screen_lit_pcba_test_37jstv82_v4.csv\",\n",
    "    (\"LIT-PCBA\", \"e2ebind+gnina\"): \"screen_lit_pcba_test_combo_37jstv82_v4_gnina_0.1.csv\",\n",
    "    (\"BigBind\", \"e2ebind\"): \"screen_bigbind_test_37jstv82_v4.csv\"\n",
    "}\n",
    "def create_combined_df(csv_dict):\n",
    "    dfs = []\n",
    "    for (dataset, model), csv in csv_dict.items():\n",
    "        df = pd.read_csv(\"../outputs/\" + csv)\n",
    "        df[\"model\"] = model\n",
    "        df[\"dataset\"] = dataset\n",
    "        if dataset == \"BigBind\":\n",
    "            df = df[np.logical_and(df[\"total actives in set\"] == 10, df[\"EF1%\"] != 0)].reset_index(drop=True)\n",
    "        dfs.append(df)\n",
    "    return pd.concat(dfs)\n",
    "comb_df = create_combined_df(csv_dict)"
   ]
  },
  {
   "cell_type": "code",
   "execution_count": 135,
   "metadata": {},
   "outputs": [
    {
     "data": {
      "image/png": "[encoded data removed]",
      "text/plain": [
       "<Figure size 833x360 with 1 Axes>"
      ]
     },
     "metadata": {
      "needs_background": "light"
     },
     "output_type": "display_data"
    }
   ],
   "source": [
    "pcba_order = list(comb_df.query(\"dataset == 'LIT-PCBA' and model == 'e2ebind'\").sort_values(by=\"EF1%\", ascending=False).target)\n",
    "bb_order = list(comb_df.query(\"dataset == 'BigBind' and model == 'e2ebind'\").sort_values(by=\"EF1%\", ascending=False).target)\n",
    "g = sns.catplot(x=\"target\", y=\"EF1%\", hue=\"model\",# col=\"dataset\",\n",
    "                data=comb_df,\n",
    "                order=pcba_order,# + bb_order,\n",
    "                hue_order = [ 'e2ebind', 'gnina', 'e2ebind+gnina' ],\n",
    "                sharex = False,\n",
    "                aspect=2,\n",
    "                kind='bar')\n",
    "\n",
    "g.set_xticklabels(rotation=90)\n",
    "g.fig.suptitle(\"LIT-PCBA performance\")\n",
    "g.savefig(\"../outputs/lit_pcba.png\")"
   ]
  },
  {
   "cell_type": "code",
   "execution_count": 137,
   "metadata": {},
   "outputs": [
    {
     "data": {
      "text/plain": [
       "2.5640175"
      ]
     },
     "execution_count": 137,
     "metadata": {},
     "output_type": "execute_result"
    }
   ],
   "source": [
    "comb_df.query(\"dataset == 'LIT-PCBA' and model == 'e2ebind'\")[\"EF1%\"].median()"
   ]
  },
  {
   "cell_type": "code",
   "execution_count": null,
   "metadata": {},
   "outputs": [],
   "source": [
    "g = sns.barplot(data=df, x=\"target\", y=\"EF1%\")\n",
    "g.set_xticklabels(g.get_xticklabels(), rotation=-80)"
   ]
  },
  {
   "cell_type": "code",
   "execution_count": 20,
   "metadata": {},
   "outputs": [
    {
     "data": {
      "image/png": "[encoded data removed]",
      "text/plain": [
       "<Figure size 226.05x216 with 2 Axes>"
      ]
     },
     "metadata": {},
     "output_type": "display_data"
    }
   ],
   "source": [
    "titanic = sns.load_dataset(\"titanic\")\n",
    "sns.set_style('whitegrid')\n",
    "g = sns.catplot(x=\"deck\", hue=\"alive\", col=\"sex\",\n",
    "                data=titanic[titanic.deck.notnull()],\n",
    "                height=3, kind='count', aspect=.4, palette='Set1')\n",
    "for ax in g.axes.flat[1:]:\n",
    "    sns.despine(ax=ax, left=True)\n",
    "for ax in g.axes.flat:\n",
    "    ax.set_xlabel(ax.get_title())\n",
    "    ax.set_title('')\n",
    "    ax.margins(x=0.1) # slightly more margin as a separation\n",
    "plt.subplots_adjust(wspace=0, bottom=0.18, left=0.06)\n",
    "plt.show()"
   ]
  },
  {
   "cell_type": "code",
   "execution_count": null,
   "metadata": {},
   "outputs": [],
   "source": [
    "y1 = np.random.randn(5)\n",
    "y2 = np.random.randn(15)\n",
    "\n",
    "fig, (ax1, ax2) = plt.subplots(1,2, sharey=True)\n",
    "for y, ax in ((y1, ax1), (y2, ax2)):\n",
    "    x = np.arange(len(y))\n",
    "    rects = ax.bar(x, y, width=2)"
   ]
  },
  {
   "cell_type": "code",
   "execution_count": null,
   "metadata": {},
   "outputs": [],
   "source": [
    "mol = Chem.MolFromSmiles(loader.dataset.activities.lig_smiles[0])\n",
    "Chem.Draw.MolToFile(mol, \"../outputs/ex_mol.png\")"
   ]
  },
  {
   "cell_type": "code",
   "execution_count": null,
   "metadata": {},
   "outputs": [],
   "source": [
    "targ = BigBindScreenDataset.get_all_targets(cfg, \"val\")[0]\n",
    "dataset = BigBindScreenDataset(cfg, targ, \"val\")"
   ]
  },
  {
   "cell_type": "code",
   "execution_count": null,
   "metadata": {},
   "outputs": [],
   "source": [
    "sorted(vals, key=lambda x: -x)"
   ]
  },
  {
   "cell_type": "code",
   "execution_count": null,
   "metadata": {},
   "outputs": [],
   "source": [
    "api = wandb.Api()\n",
    "run_id = \"1nhqz8vw\"\n",
    "run = api.run(f\"{cfg.project}/{run_id}\")"
   ]
  },
  {
   "cell_type": "code",
   "execution_count": null,
   "metadata": {},
   "outputs": [],
   "source": [
    "artifact = get_weight_artifact(run)\n",
    "out_filename = f\"../outputs/lit_pca_results_{run_id}_{artifact.version}.csv\""
   ]
  },
  {
   "cell_type": "code",
   "execution_count": null,
   "metadata": {},
   "outputs": [],
   "source": [
    "df = pd.read_csv(out_filename)"
   ]
  },
  {
   "cell_type": "code",
   "execution_count": null,
   "metadata": {},
   "outputs": [],
   "source": [
    "df = df.sort_values(by=\"EF1%\", ascending=False)"
   ]
  },
  {
   "cell_type": "code",
   "execution_count": null,
   "metadata": {},
   "outputs": [],
   "source": [
    "prior_lit_pcba = pd.read_csv(\"../prior_work/lit_pcba.csv\")\n",
    "prior_lit_pcba = prior_lit_pcba.set_index(\"target\")"
   ]
  },
  {
   "cell_type": "code",
   "execution_count": null,
   "metadata": {},
   "outputs": [],
   "source": [
    "name2csv = {\n",
    "    \"e2ebind\": \"../outputs/val_screen_1nhqz8vw_v0.csv\",\n",
    "    \"vina\": \"../outputs/val_screen_vina.csv\",\n",
    "}"
   ]
  },
  {
   "cell_type": "code",
   "execution_count": null,
   "metadata": {},
   "outputs": [],
   "source": [
    "sorted_df.query(\"`total actives in set` > 1\")"
   ]
  },
  {
   "cell_type": "code",
   "execution_count": null,
   "metadata": {},
   "outputs": [],
   "source": [
    "import matplotlib.pyplot as plt\n",
    "import numpy as np\n",
    "\n",
    "def make_screen_fig(cfg, name2csv, sort_key=\"e2ebind\", min_actives=10):\n",
    "\n",
    "    name2df = {}\n",
    "    for name, csv in name2csv.items():\n",
    "        df = pd.read_csv(csv).set_index(\"target\")\n",
    "        df = df.query(\"`total actives in set` >= @min_actives\")\n",
    "        name2df[name] = df\n",
    "    sorted_df = name2df[sort_key]\n",
    "    sorted_df = sorted_df.sort_values(by=\"EF1%\", ascending=False)\n",
    "\n",
    "    fig, ax = plt.subplots()\n",
    "    x = np.arange(len(sorted_df))\n",
    "    width = 0.25\n",
    "\n",
    "    name2ef1 = {}\n",
    "    for i, (name, df) in enumerate(name2df.items()):\n",
    "        ef1_scores = df[\"EF1%\"][sorted_df.index]\n",
    "        name2ef1[name] = ef1_scores\n",
    "        rects = ax.bar(x + width*(i-1)/2, ef1_scores, width, label=name)\n",
    "\n",
    "    # Add some text for labels, title and custom x-axis tick labels, etc.\n",
    "    ax.set_ylabel('EF1%')\n",
    "    ax.set_title(\"Performance on BigBind Screen\")\n",
    "    ax.set_xticks(x)\n",
    "    targets = [ t.split(\"_\")[0] for t in sorted_df.index ]\n",
    "    ax.set_xticklabels(targets, rotation='vertical')\n",
    "    ax.set_xlabel(\"Target\")\n",
    "    ax.legend()\n",
    "\n",
    "    fig.set_size_inches(15, 5)\n",
    "    fig.tight_layout()\n",
    "    out_filename = \"../outputs/val_screen_results.png\"\n",
    "    fig.savefig(out_filename, transparent=False)\n",
    "\n",
    "make_screen_fig(cfg, name2csv)"
   ]
  },
  {
   "cell_type": "code",
   "execution_count": null,
   "metadata": {},
   "outputs": [],
   "source": [
    "run_ids = [\"1nhqz8vw\", \"1socj7qg\" ]\n",
    "name2model = {}\n",
    "api = wandb.Api()\n",
    "for run_id in run_ids:\n",
    "    run = api.run(f\"{cfg.project}/{run_id}\") # wandb.init(project=cfg.project, id=run_id, resume=True)\n",
    "    cfg = get_run_config(run, cfg)\n",
    "    artifact = api.artifact(f\"{cfg.project}/model-{run.id}:latest\", type='model')\n",
    "    artifact_dir = artifact.download()\n",
    "    checkpoint_file = artifact_dir + \"/model.ckpt\"\n",
    "    routine = AIRoutine.from_checkpoint(cfg, checkpoint_file)\n",
    "    name2model[run.name] = routine.model"
   ]
  },
  {
   "cell_type": "code",
   "execution_count": null,
   "metadata": {},
   "outputs": [],
   "source": [
    "import pandas as pd\n",
    "from glob import glob\n",
    "from datasets.graphs.mol_graph import MolGraph, mol_graph_from_sdf\n",
    "from datasets.graphs.prot_graph import ProtGraph, prot_graph_from_pdb\n",
    "from datasets.data_types import ActivityData, IsActiveData\n",
    "from terrace.batch import make_batch\n",
    "\n",
    "for screen_csv in glob(cfg.platform.bigbind_dir + \"/val_screens/*.csv\"):\n",
    "    screen_df = pd.read_csv(screen_csv)\n",
    "    break"
   ]
  },
  {
   "cell_type": "code",
   "execution_count": null,
   "metadata": {},
   "outputs": [],
   "source": [
    "batch_size = 16\n",
    "batch_arr = []\n",
    "for i, row in tqdm(screen_df.iterrows()):\n",
    "    lig_file = cfg.platform.bigbind_dir + \"/\" + row.lig_file\n",
    "    rec_file = cfg.platform.bigbind_dir + \"/\" + row.ex_rec_file\n",
    "    lig_graph = mol_graph_from_sdf(cfg, lig_file)\n",
    "    rec_graph = prot_graph_from_pdb(cfg, rec_file)\n",
    "    is_active = torch.tensor(row.active, dtype=bool)\n",
    "    data = IsActiveData(lig_graph, rec_graph, is_active)\n",
    "    batch_arr.append(data)\n",
    "    if i == batch_size:\n",
    "        break"
   ]
  },
  {
   "cell_type": "code",
   "execution_count": null,
   "metadata": {},
   "outputs": [],
   "source": [
    "batch = make_batch(batch_arr)"
   ]
  },
  {
   "cell_type": "code",
   "execution_count": null,
   "metadata": {},
   "outputs": [],
   "source": [
    "for name, model in name2model.items():\n",
    "    print(name, model(batch))"
   ]
  },
  {
   "cell_type": "code",
   "execution_count": null,
   "metadata": {},
   "outputs": [],
   "source": [
    "batch = next(iter(loader))"
   ]
  },
  {
   "cell_type": "code",
   "execution_count": null,
   "metadata": {},
   "outputs": [],
   "source": [
    "model = make_model(cfg, in_node)"
   ]
  },
  {
   "cell_type": "code",
   "execution_count": null,
   "metadata": {},
   "outputs": [],
   "source": [
    "outputs = model(batch)\n",
    "norm_outs = torch.sigmoid(outputs)\n",
    "print(outputs)\n",
    "print(norm_outs)\n",
    "print(batch.is_active)"
   ]
  },
  {
   "cell_type": "code",
   "execution_count": null,
   "metadata": {},
   "outputs": [],
   "source": [
    "preds = (norm_outs > 0.5)\n",
    "tpr = sum((preds == batch.is_active) & batch.is_active) / sum(batch.is_active)\n",
    "tnr = sum((preds == batch.is_active) & ~batch.is_active) / sum(~batch.is_active)\n",
    "0.5*(tpr + tnr)"
   ]
  },
  {
   "cell_type": "code",
   "execution_count": null,
   "metadata": {},
   "outputs": [],
   "source": [
    "for key, met in get_metrics(cfg).items():\n",
    "    print(key, met(outputs, batch))"
   ]
  },
  {
   "cell_type": "code",
   "execution_count": null,
   "metadata": {},
   "outputs": [],
   "source": [
    "activities = loader.dataset.activities"
   ]
  },
  {
   "cell_type": "code",
   "execution_count": null,
   "metadata": {},
   "outputs": [],
   "source": [
    "from datasets.graphs.mol_graph import *\n",
    "sdf_file = cfg.platform.bigbind_dir + \"/\" + activities.lig_file[0]\n",
    "get_node_and_edge_nums_from_sdf(cfg, sdf_file)"
   ]
  },
  {
   "cell_type": "code",
   "execution_count": null,
   "metadata": {},
   "outputs": [],
   "source": [
    "from datasets.graphs.prot_graph import *\n",
    "pdb_file = cfg.platform.bigbind_dir + \"/\" + activities.ex_rec_file[0]\n",
    "get_node_and_edge_nums_from_pdb(cfg, pdb_file)"
   ]
  },
  {
   "cell_type": "code",
   "execution_count": null,
   "metadata": {},
   "outputs": [],
   "source": [
    "from datasets.cacheable_dataset import *\n",
    "cfg.platform.cache_dir + \"/\" + cfg.dataset + \"/\" + get_dataset_hash(cfg) + \"/graph_sizes.csv\""
   ]
  },
  {
   "cell_type": "code",
   "execution_count": null,
   "metadata": {},
   "outputs": [],
   "source": [
    "from datasets.edge_num_sampler import *\n",
    "cfg = get_config(\"../configs\", \"short_thicc_op_gnn\")\n",
    "sampler = EdgeNumSampler(cfg, loader.dataset)\n",
    "for sample in sampler:\n",
    "    print(sample)\n",
    "    break"
   ]
  },
  {
   "cell_type": "code",
   "execution_count": null,
   "metadata": {},
   "outputs": [],
   "source": [
    "activities.lig_smiles.str.len().argmax()"
   ]
  },
  {
   "cell_type": "code",
   "execution_count": null,
   "metadata": {},
   "outputs": [],
   "source": [
    "activities.lig_file[42638]"
   ]
  },
  {
   "cell_type": "code",
   "execution_count": null,
   "metadata": {},
   "outputs": [],
   "source": [
    "for b in loader.dataset:\n",
    "    print(len(b.lig.edata))"
   ]
  },
  {
   "cell_type": "code",
   "execution_count": null,
   "metadata": {},
   "outputs": [],
   "source": [
    "b = loader.dataset[42638]\n",
    "len(b.rec.edata), len(b.rec.ndata)"
   ]
  },
  {
   "cell_type": "code",
   "execution_count": null,
   "metadata": {},
   "outputs": [],
   "source": [
    "b.lig.edata.batch_size"
   ]
  },
  {
   "cell_type": "code",
   "execution_count": null,
   "metadata": {},
   "outputs": [],
   "source": [
    "b.lig.ndata.cat_feat"
   ]
  },
  {
   "cell_type": "code",
   "execution_count": null,
   "metadata": {},
   "outputs": [],
   "source": [
    "for batch in loader:\n",
    "    print(len(batch.lig.edata), len(batch.lig.ndata))"
   ]
  },
  {
   "cell_type": "code",
   "execution_count": null,
   "metadata": {},
   "outputs": [],
   "source": [
    "bal_acc = Accuracy(average=\"macro\", num_classes=2, multiclass=True)\n",
    "bal_acc(norm_outs, batch.is_active)"
   ]
  },
  {
   "cell_type": "code",
   "execution_count": null,
   "metadata": {},
   "outputs": [],
   "source": [
    "activities = loader.dataset.activities\n",
    "activities"
   ]
  },
  {
   "cell_type": "code",
   "execution_count": null,
   "metadata": {},
   "outputs": [],
   "source": [
    "nn.ModuleDict({\"train_metric\": nn.Linear(10, 10)})"
   ]
  },
  {
   "cell_type": "code",
   "execution_count": null,
   "metadata": {},
   "outputs": [],
   "source": [
    "dataset = make_dataset(cfg, \"val\")"
   ]
  },
  {
   "cell_type": "code",
   "execution_count": null,
   "metadata": {},
   "outputs": [],
   "source": [
    "sum(dataset.activities.active)/len(dataset.activities)"
   ]
  },
  {
   "cell_type": "code",
   "execution_count": null,
   "metadata": {},
   "outputs": [],
   "source": [
    "torch.tensor(energies).var()"
   ]
  },
  {
   "cell_type": "code",
   "execution_count": null,
   "metadata": {},
   "outputs": [],
   "source": [
    "from datasets.vina_score import VinaScoreDataset\n",
    "dataset = VinaScoreDataset(cfg, \"train\")"
   ]
  },
  {
   "cell_type": "code",
   "execution_count": null,
   "metadata": {},
   "outputs": [],
   "source": [
    "(torch.randn((3,))*2).tolist()"
   ]
  },
  {
   "cell_type": "code",
   "execution_count": null,
   "metadata": {},
   "outputs": [],
   "source": [
    "lig_file = dataset.lig_files[0]\n",
    "lig = next(Chem.SDMolSupplier(lig_file, sanitize=True))\n",
    "conf = lig.GetConformer()\n",
    "lig_center = Chem.rdMolTransforms.ComputeCentroid(conf)\n",
    "new_pos = lig_center + conf.GetAtomPosition(0)\n",
    "print(conf.GetAtomPosition(0).x)\n",
    "conf.SetAtomPosition(0, new_pos)\n",
    "print(conf.GetAtomPosition(0).x)"
   ]
  },
  {
   "cell_type": "code",
   "execution_count": null,
   "metadata": {},
   "outputs": [],
   "source": [
    "lig = Chem.MolFromSmiles(smiles)"
   ]
  },
  {
   "cell_type": "code",
   "execution_count": null,
   "metadata": {},
   "outputs": [],
   "source": [
    "batch = next(iter(loader))"
   ]
  },
  {
   "cell_type": "code",
   "execution_count": null,
   "metadata": {},
   "outputs": [],
   "source": [
    "cfg = get_config(\"../configs\", \"outer_prod_gnn\")\n",
    "# cfg.model.type\n",
    "model = make_model(cfg, in_node)\n",
    "y_pred = model(batch)\n",
    "y_pred"
   ]
  },
  {
   "cell_type": "code",
   "execution_count": null,
   "metadata": {},
   "outputs": [],
   "source": [
    "cfg = get_config(\"../configs\", \"learnable_ff\")\n",
    "model = LearnableFF(cfg, in_node)\n",
    "y_pred = model(batch)"
   ]
  },
  {
   "cell_type": "code",
   "execution_count": null,
   "metadata": {},
   "outputs": [],
   "source": [
    "get_losses(cfg, batch, y_pred)"
   ]
  },
  {
   "cell_type": "code",
   "execution_count": null,
   "metadata": {},
   "outputs": [],
   "source": [
    "torch.einsum('lf,rf->lr', lig_feat, rec_feat).shape"
   ]
  },
  {
   "cell_type": "code",
   "execution_count": null,
   "metadata": {},
   "outputs": [],
   "source": [
    "lig_feat.device"
   ]
  },
  {
   "cell_type": "code",
   "execution_count": null,
   "metadata": {},
   "outputs": [],
   "source": [
    "rot, _ = torch.linalg.qr(torch.randn((3,3)))\n",
    "trans = torch.randn(3,)\n",
    "# torch.linalg.det(rand_rot)\n",
    "# torch.einsum(\"ij,jk->ik\")\n",
    "coord = batch.lig.ndata.coord\n",
    "trans_coord = torch.einsum('ij,bj->bi',rot,coord) + trans"
   ]
  },
  {
   "cell_type": "code",
   "execution_count": null,
   "metadata": {},
   "outputs": [],
   "source": [
    "batch_t = deepcopy(batch)\n",
    "batch_t.lig.ndata.coord = trans_coord"
   ]
  },
  {
   "cell_type": "code",
   "execution_count": null,
   "metadata": {},
   "outputs": [],
   "source": [
    "(lig_coord - lig_coord.mean(0)).mean(0)"
   ]
  },
  {
   "cell_type": "code",
   "execution_count": null,
   "metadata": {},
   "outputs": [],
   "source": [
    "lig_coord = batch.lig.ndata.coord\n",
    "rec_coord = batch.rec.ndata.coord\n",
    "dists = torch.zeros((lig_coord.shape[0], rec_coord.shape[0]))\n",
    "for i, lc in enumerate(lig_coord):\n",
    "    for j, rc in enumerate(rec_coord):\n",
    "        dists[i,j] = torch.linalg.norm(lc - rc)\n",
    "dists"
   ]
  },
  {
   "cell_type": "code",
   "execution_count": null,
   "metadata": {},
   "outputs": [],
   "source": [
    "mask = torch.zeros((lig_coord.shape[0], rec_coord.shape[0]))\n",
    "tot_rec = 0\n",
    "tot_lig = 0\n",
    "rec_graph = batch.rec.dgl_batch\n",
    "lig_graph = batch.lig.dgl_batch\n",
    "for r, l in zip(rec_graph.batch_num_nodes(), lig_graph.batch_num_nodes()):\n",
    "    mask[tot_lig:tot_lig+l,tot_rec:tot_rec+r] = 1.0\n",
    "    tot_rec += r\n",
    "    tot_lig += l\n",
    "mask"
   ]
  },
  {
   "cell_type": "code",
   "execution_count": null,
   "metadata": {},
   "outputs": [],
   "source": [
    "(1/(torch.cdist(lig_coord, rec_coord))**2)*mask"
   ]
  },
  {
   "cell_type": "code",
   "execution_count": null,
   "metadata": {},
   "outputs": [],
   "source": [
    "# from datasets.graphs.plot_graph import *\n",
    "# plot_graph(batch_t.lig[0])"
   ]
  },
  {
   "cell_type": "code",
   "execution_count": null,
   "metadata": {},
   "outputs": [],
   "source": [
    "t1 = torch.randn((10, 100))\n",
    "t2 = torch.randn((10, 50))\n",
    "torch.einsum('bi,bj->bij', t1, t2).reshape((t1.size(0), -1)).shape"
   ]
  }
 ],
 "metadata": {
  "kernelspec": {
   "display_name": "Python 3.8.5 ('chem')",
   "language": "python",
   "name": "python3"
  },
  "language_info": {
   "codemirror_mode": {
    "name": "ipython",
    "version": 3
   },
   "file_extension": ".py",
   "mimetype": "text/x-python",
   "name": "python",
   "nbconvert_exporter": "python",
   "pygments_lexer": "ipython3",
   "version": "3.8.5"
  },
  "orig_nbformat": 4,
  "vscode": {
   "interpreter": {
    "hash": "793ba03f2bf20f578292df94672cc007484e9fb1e9f785a224339478cf2774f8"
   }
  }
 },
 "nbformat": 4,
 "nbformat_minor": 2
}
