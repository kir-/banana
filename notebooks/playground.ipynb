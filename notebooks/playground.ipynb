{
 "cells": [
  {
   "cell_type": "code",
   "execution_count": 1,
   "metadata": {},
   "outputs": [],
   "source": [
    "import sys\n",
    "sys.path.append('../')\n",
    "sys.path.insert(0, '../terrace')\n",
    "\n",
    "%load_ext autoreload\n",
    "%autoreload 2"
   ]
  },
  {
   "cell_type": "code",
   "execution_count": 76,
   "metadata": {},
   "outputs": [],
   "source": [
    "from tqdm import tqdm\n",
    "from copy import deepcopy\n",
    "import torch\n",
    "from common.cfg_utils import get_config\n",
    "from datasets.make_dataset import *\n",
    "from models.gnn_bind import *\n",
    "from terrace.batch import *\n",
    "from terrace.type_data import *\n",
    "from terrace.comp_node import *\n",
    "\n",
    "\n",
    "cfg = get_config(\"../configs\", \"default\")\n",
    "loader = make_dataloader(cfg, \"val\")\n",
    "in_node = Input(loader.get_type_data())"
   ]
  },
  {
   "cell_type": "code",
   "execution_count": 21,
   "metadata": {},
   "outputs": [],
   "source": [
    "batch = next(iter(loader))"
   ]
  },
  {
   "cell_type": "code",
   "execution_count": 77,
   "metadata": {},
   "outputs": [],
   "source": [
    "rot, _ = torch.linalg.qr(torch.randn((3,3)))\n",
    "trans = torch.randn(3,)\n",
    "# torch.linalg.det(rand_rot)\n",
    "# torch.einsum(\"ij,jk->ik\")\n",
    "coord = batch.lig.ndata.coord\n",
    "trans_coord = torch.einsum('ij,bj->bi',rot,coord) + trans"
   ]
  },
  {
   "cell_type": "code",
   "execution_count": 78,
   "metadata": {},
   "outputs": [],
   "source": [
    "batch_t = deepcopy(batch)\n",
    "batch_t.lig.ndata.coord = trans_coord"
   ]
  },
  {
   "cell_type": "code",
   "execution_count": 95,
   "metadata": {},
   "outputs": [
    {
     "data": {
      "text/plain": [
       "tensor([[24.9056, 26.1221, 32.7037,  ..., 59.9716, 57.3830, 72.9151],\n",
       "        [25.5268, 26.5024, 33.3077,  ..., 58.4674, 55.8833, 71.4241],\n",
       "        [26.6782, 27.3604, 34.4925,  ..., 57.7209, 55.0941, 70.8719],\n",
       "        ...,\n",
       "        [34.9228, 35.8056, 41.8239,  ..., 46.7359, 44.6136, 58.4612],\n",
       "        [35.0984, 35.6710, 42.1213,  ..., 46.3110, 44.0902, 58.4083],\n",
       "        [30.1799, 31.6070, 37.5665,  ..., 54.0163, 51.6679, 66.3070]])"
      ]
     },
     "execution_count": 95,
     "metadata": {},
     "output_type": "execute_result"
    }
   ],
   "source": [
    "lig_coord = batch.lig.ndata.coord\n",
    "rec_coord = batch.rec.ndata.coord\n",
    "dists = torch.zeros((lig_coord.shape[0], rec_coord.shape[0]))\n",
    "for i, lc in enumerate(lig_coord):\n",
    "    for j, rc in enumerate(rec_coord):\n",
    "        dists[i,j] = torch.linalg.norm(lc - rc)\n",
    "dists"
   ]
  },
  {
   "cell_type": "code",
   "execution_count": 97,
   "metadata": {},
   "outputs": [
    {
     "data": {
      "text/plain": [
       "tensor([[1., 1., 1.,  ..., 0., 0., 0.],\n",
       "        [1., 1., 1.,  ..., 0., 0., 0.],\n",
       "        [1., 1., 1.,  ..., 0., 0., 0.],\n",
       "        ...,\n",
       "        [0., 0., 0.,  ..., 1., 1., 1.],\n",
       "        [0., 0., 0.,  ..., 1., 1., 1.],\n",
       "        [0., 0., 0.,  ..., 1., 1., 1.]])"
      ]
     },
     "execution_count": 97,
     "metadata": {},
     "output_type": "execute_result"
    }
   ],
   "source": [
    "mask = torch.zeros((lig_coord.shape[0], rec_coord.shape[0]))\n",
    "tot_rec = 0\n",
    "tot_lig = 0\n",
    "rec_graph = batch.rec.dgl_batch\n",
    "lig_graph = batch.lig.dgl_batch\n",
    "for r, l in zip(rec_graph.batch_num_nodes(), lig_graph.batch_num_nodes()):\n",
    "    mask[tot_lig:tot_lig+l,tot_rec:tot_rec+r] = 1.0\n",
    "    tot_rec += r\n",
    "    tot_lig += l\n",
    "mask"
   ]
  },
  {
   "cell_type": "code",
   "execution_count": 108,
   "metadata": {},
   "outputs": [
    {
     "data": {
      "text/plain": [
       "tensor([[0.0016, 0.0015, 0.0009,  ..., 0.0000, 0.0000, 0.0000],\n",
       "        [0.0015, 0.0014, 0.0009,  ..., 0.0000, 0.0000, 0.0000],\n",
       "        [0.0014, 0.0013, 0.0008,  ..., 0.0000, 0.0000, 0.0000],\n",
       "        ...,\n",
       "        [0.0000, 0.0000, 0.0000,  ..., 0.0005, 0.0005, 0.0003],\n",
       "        [0.0000, 0.0000, 0.0000,  ..., 0.0005, 0.0005, 0.0003],\n",
       "        [0.0000, 0.0000, 0.0000,  ..., 0.0003, 0.0004, 0.0002]])"
      ]
     },
     "execution_count": 108,
     "metadata": {},
     "output_type": "execute_result"
    }
   ],
   "source": [
    "(1/(torch.cdist(lig_coord, rec_coord))**2)*mask"
   ]
  },
  {
   "cell_type": "code",
   "execution_count": 83,
   "metadata": {},
   "outputs": [],
   "source": [
    "# from datasets.graphs.plot_graph import *\n",
    "# plot_graph(batch_t.lig[0])"
   ]
  }
 ],
 "metadata": {
  "kernelspec": {
   "display_name": "Python 3.8.5 ('chem')",
   "language": "python",
   "name": "python3"
  },
  "language_info": {
   "codemirror_mode": {
    "name": "ipython",
    "version": 3
   },
   "file_extension": ".py",
   "mimetype": "text/x-python",
   "name": "python",
   "nbconvert_exporter": "python",
   "pygments_lexer": "ipython3",
   "version": "3.8.5"
  },
  "orig_nbformat": 4,
  "vscode": {
   "interpreter": {
    "hash": "793ba03f2bf20f578292df94672cc007484e9fb1e9f785a224339478cf2774f8"
   }
  }
 },
 "nbformat": 4,
 "nbformat_minor": 2
}
