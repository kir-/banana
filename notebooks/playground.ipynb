{
 "cells": [
  {
   "cell_type": "code",
   "execution_count": 1,
   "metadata": {},
   "outputs": [],
   "source": [
    "import sys\n",
    "sys.path.append('../')\n",
    "sys.path.insert(0, '../terrace')\n",
    "\n",
    "%load_ext autoreload\n",
    "%autoreload 2"
   ]
  },
  {
   "cell_type": "code",
   "execution_count": 2,
   "metadata": {},
   "outputs": [],
   "source": [
    "from tqdm import tqdm\n",
    "from common.cfg_utils import get_config\n",
    "from datasets.make_dataset import *\n",
    "from terrace.batch import *\n",
    "from terrace.type_data import *\n",
    "# cfg = get_config(\"../configs\", \"regression\")\n",
    "# loader = make_dataloader(cfg, \"val\")"
   ]
  },
  {
   "cell_type": "code",
   "execution_count": 5,
   "metadata": {},
   "outputs": [
    {
     "data": {
      "text/plain": [
       "(TypeData[Tensor[(B)]],)"
      ]
     },
     "execution_count": 5,
     "metadata": {},
     "output_type": "execute_result"
    }
   ],
   "source": [
    "make_batch_td((TensorTD(tuple()), ))"
   ]
  },
  {
   "cell_type": "code",
   "execution_count": 11,
   "metadata": {},
   "outputs": [
    {
     "data": {
      "text/plain": [
       "torch.Size([2, 10])"
      ]
     },
     "execution_count": 11,
     "metadata": {},
     "output_type": "execute_result"
    }
   ],
   "source": [
    "t = torch.zeros((10,))\n",
    "torch.stack([t,t]).shape"
   ]
  },
  {
   "cell_type": "code",
   "execution_count": 3,
   "metadata": {},
   "outputs": [
    {
     "name": "stdout",
     "output_type": "stream",
     "text": [
      "TypeData[ProtResidueNode[coord=Tensor[(3)], cat_feat=Tensor[(1), dtype=int64, max_values=[38]], scal_feat=Tensor[(0)]]]\n"
     ]
    }
   ],
   "source": [
    "i = iter(batch_td.rec.ndata)\n",
    "i\n",
    "for act in batch_td.rec.ndata:\n",
    "    print(act)"
   ]
  },
  {
   "cell_type": "code",
   "execution_count": 2,
   "metadata": {},
   "outputs": [],
   "source": [
    "import torch\n",
    "from tqdm import tqdm\n",
    "from routines.routine import Routine\n",
    "from common.cfg_utils import get_config\n",
    "\n",
    "cfg = get_config(\"../configs\")\n",
    "# routine = Routine(cfg)"
   ]
  },
  {
   "cell_type": "code",
   "execution_count": 24,
   "metadata": {},
   "outputs": [
    {
     "data": {
      "text/plain": [
       "True"
      ]
     },
     "execution_count": 24,
     "metadata": {},
     "output_type": "execute_result"
    }
   ],
   "source": [
    "cfg.data.use_rec"
   ]
  },
  {
   "cell_type": "code",
   "execution_count": 51,
   "metadata": {},
   "outputs": [
    {
     "data": {
      "text/plain": [
       "torch.Size([28, 5])"
      ]
     },
     "execution_count": 51,
     "metadata": {},
     "output_type": "execute_result"
    }
   ],
   "source": [
    "from datasets.bigbind_act import BigBindActDataset\n",
    "cfg.data.use_lig = False\n",
    "cfg.data.cache = False\n",
    "cfg.data.rec_graph.only_pocket = True\n",
    "dataset = BigBindActDataset(cfg, \"val\")\n",
    "dataset[10000].lig.ndata.cat_feat.shape"
   ]
  },
  {
   "cell_type": "code",
   "execution_count": 46,
   "metadata": {},
   "outputs": [
    {
     "data": {
      "text/plain": [
       "tensor([[18],\n",
       "        [10],\n",
       "        [17],\n",
       "        [ 0],\n",
       "        [18],\n",
       "        [18],\n",
       "        [18],\n",
       "        [17],\n",
       "        [ 4],\n",
       "        [ 7],\n",
       "        [10],\n",
       "        [16],\n",
       "        [12],\n",
       "        [13],\n",
       "        [15],\n",
       "        [14],\n",
       "        [16],\n",
       "        [ 1],\n",
       "        [ 4],\n",
       "        [12],\n",
       "        [ 9],\n",
       "        [12],\n",
       "        [11],\n",
       "        [17],\n",
       "        [13],\n",
       "        [14],\n",
       "        [ 9],\n",
       "        [ 7],\n",
       "        [13]])"
      ]
     },
     "execution_count": 46,
     "metadata": {},
     "output_type": "execute_result"
    }
   ],
   "source": [
    "from datasets.graphs.plot_graph import plot_graph\n",
    "# plot_graph(rec)\n",
    "rec.ndata.cat_feat"
   ]
  }
 ],
 "metadata": {
  "kernelspec": {
   "display_name": "Python 3.8.5 ('chem')",
   "language": "python",
   "name": "python3"
  },
  "language_info": {
   "codemirror_mode": {
    "name": "ipython",
    "version": 3
   },
   "file_extension": ".py",
   "mimetype": "text/x-python",
   "name": "python",
   "nbconvert_exporter": "python",
   "pygments_lexer": "ipython3",
   "version": "3.8.5"
  },
  "orig_nbformat": 4,
  "vscode": {
   "interpreter": {
    "hash": "793ba03f2bf20f578292df94672cc007484e9fb1e9f785a224339478cf2774f8"
   }
  }
 },
 "nbformat": 4,
 "nbformat_minor": 2
}
