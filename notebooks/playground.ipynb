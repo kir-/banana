{
 "cells": [
  {
   "cell_type": "code",
   "execution_count": 1,
   "metadata": {},
   "outputs": [],
   "source": [
    "import sys\n",
    "sys.path.append('../')\n",
    "sys.path.insert(0, '../terrace')\n",
    "\n",
    "%load_ext autoreload\n",
    "%autoreload 2"
   ]
  },
  {
   "cell_type": "code",
   "execution_count": 3,
   "metadata": {},
   "outputs": [],
   "source": [
    "from tqdm import tqdm\n",
    "from copy import deepcopy\n",
    "import torch\n",
    "import torch.nn as nn\n",
    "import rdkit\n",
    "from rdkit import Chem\n",
    "from rdkit.Chem import AllChem\n",
    "from common.cfg_utils import get_config\n",
    "from common.losses import *\n",
    "from datasets.make_dataset import *\n",
    "from models.gnn_bind import *\n",
    "from models.learnable_ff import LearnableFF\n",
    "from routines.ai_routine import *\n",
    "from terrace.batch import *\n",
    "from terrace.type_data import *\n",
    "from terrace.comp_node import *"
   ]
  },
  {
   "cell_type": "code",
   "execution_count": 2,
   "metadata": {},
   "outputs": [],
   "source": [
    "cfg = get_config(\"../configs\", \"default\")\n",
    "cfg.data.sna_frac = 1\n",
    "cfg.data.cache = False\n",
    "loader = make_dataloader(cfg, \"val\")\n",
    "in_node = Input(loader.get_type_data())"
   ]
  },
  {
   "cell_type": "code",
   "execution_count": 6,
   "metadata": {},
   "outputs": [
    {
     "data": {
      "text/plain": [
       "ModuleDict(\n",
       "  (train_metric): Linear(in_features=10, out_features=10, bias=True)\n",
       ")"
      ]
     },
     "execution_count": 6,
     "metadata": {},
     "output_type": "execute_result"
    }
   ],
   "source": [
    "nn.ModuleDict({\"train_metric\": nn.Linear(10, 10)})"
   ]
  },
  {
   "cell_type": "code",
   "execution_count": 11,
   "metadata": {},
   "outputs": [],
   "source": [
    "dataset = make_dataset(cfg, \"val\")"
   ]
  },
  {
   "cell_type": "code",
   "execution_count": 12,
   "metadata": {},
   "outputs": [
    {
     "data": {
      "text/plain": [
       "0.40773086223719857"
      ]
     },
     "execution_count": 12,
     "metadata": {},
     "output_type": "execute_result"
    }
   ],
   "source": [
    "sum(dataset.activities.active)/len(dataset.activities)"
   ]
  },
  {
   "cell_type": "code",
   "execution_count": 12,
   "metadata": {},
   "outputs": [
    {
     "data": {
      "text/plain": [
       "tensor(3721.9956)"
      ]
     },
     "execution_count": 12,
     "metadata": {},
     "output_type": "execute_result"
    }
   ],
   "source": [
    "torch.tensor(energies).var()"
   ]
  },
  {
   "cell_type": "code",
   "execution_count": 16,
   "metadata": {},
   "outputs": [],
   "source": [
    "from datasets.vina_score import VinaScoreDataset\n",
    "dataset = VinaScoreDataset(cfg, \"train\")"
   ]
  },
  {
   "cell_type": "code",
   "execution_count": 65,
   "metadata": {},
   "outputs": [
    {
     "data": {
      "text/plain": [
       "[5.288211345672607, 2.007632255554199, 1.0654451847076416]"
      ]
     },
     "execution_count": 65,
     "metadata": {},
     "output_type": "execute_result"
    }
   ],
   "source": [
    "(torch.randn((3,))*2).tolist()"
   ]
  },
  {
   "cell_type": "code",
   "execution_count": 50,
   "metadata": {},
   "outputs": [
    {
     "name": "stdout",
     "output_type": "stream",
     "text": [
      "-6.0803\n",
      "-5.756255\n"
     ]
    }
   ],
   "source": [
    "lig_file = dataset.lig_files[0]\n",
    "lig = next(Chem.SDMolSupplier(lig_file, sanitize=True))\n",
    "conf = lig.GetConformer()\n",
    "lig_center = Chem.rdMolTransforms.ComputeCentroid(conf)\n",
    "new_pos = lig_center + conf.GetAtomPosition(0)\n",
    "print(conf.GetAtomPosition(0).x)\n",
    "conf.SetAtomPosition(0, new_pos)\n",
    "print(conf.GetAtomPosition(0).x)"
   ]
  },
  {
   "cell_type": "code",
   "execution_count": 14,
   "metadata": {},
   "outputs": [],
   "source": [
    "lig = Chem.MolFromSmiles(smiles)"
   ]
  },
  {
   "cell_type": "code",
   "execution_count": 3,
   "metadata": {},
   "outputs": [],
   "source": [
    "batch = next(iter(loader))"
   ]
  },
  {
   "cell_type": "code",
   "execution_count": 21,
   "metadata": {},
   "outputs": [
    {
     "name": "stdout",
     "output_type": "stream",
     "text": [
      "torch.Size([2, 4096])\n"
     ]
    },
    {
     "data": {
      "text/plain": [
       "tensor([0.5330, 0.2485], grad_fn=<SqueezeBackward1>)"
      ]
     },
     "execution_count": 21,
     "metadata": {},
     "output_type": "execute_result"
    }
   ],
   "source": [
    "cfg = get_config(\"../configs\", \"outer_prod_gnn\")\n",
    "# cfg.model.type\n",
    "model = make_model(cfg, in_node)\n",
    "y_pred = model(batch)\n",
    "y_pred"
   ]
  },
  {
   "cell_type": "code",
   "execution_count": 8,
   "metadata": {},
   "outputs": [],
   "source": [
    "cfg = get_config(\"../configs\", \"learnable_ff\")\n",
    "model = LearnableFF(cfg, in_node)\n",
    "y_pred = model(batch)"
   ]
  },
  {
   "cell_type": "code",
   "execution_count": 10,
   "metadata": {},
   "outputs": [
    {
     "data": {
      "text/plain": [
       "(tensor(1031.6157, grad_fn=<AddBackward0>),\n",
       " {'coord_mse': tensor(1031.6157, grad_fn=<MeanBackward0>)})"
      ]
     },
     "execution_count": 10,
     "metadata": {},
     "output_type": "execute_result"
    }
   ],
   "source": [
    "get_losses(cfg, batch, y_pred)"
   ]
  },
  {
   "cell_type": "code",
   "execution_count": 79,
   "metadata": {},
   "outputs": [
    {
     "data": {
      "text/plain": [
       "torch.Size([63, 54])"
      ]
     },
     "execution_count": 79,
     "metadata": {},
     "output_type": "execute_result"
    }
   ],
   "source": [
    "torch.einsum('lf,rf->lr', lig_feat, rec_feat).shape"
   ]
  },
  {
   "cell_type": "code",
   "execution_count": 80,
   "metadata": {},
   "outputs": [
    {
     "data": {
      "text/plain": [
       "device(type='cpu')"
      ]
     },
     "execution_count": 80,
     "metadata": {},
     "output_type": "execute_result"
    }
   ],
   "source": [
    "lig_feat.device"
   ]
  },
  {
   "cell_type": "code",
   "execution_count": 77,
   "metadata": {},
   "outputs": [],
   "source": [
    "rot, _ = torch.linalg.qr(torch.randn((3,3)))\n",
    "trans = torch.randn(3,)\n",
    "# torch.linalg.det(rand_rot)\n",
    "# torch.einsum(\"ij,jk->ik\")\n",
    "coord = batch.lig.ndata.coord\n",
    "trans_coord = torch.einsum('ij,bj->bi',rot,coord) + trans"
   ]
  },
  {
   "cell_type": "code",
   "execution_count": 78,
   "metadata": {},
   "outputs": [],
   "source": [
    "batch_t = deepcopy(batch)\n",
    "batch_t.lig.ndata.coord = trans_coord"
   ]
  },
  {
   "cell_type": "code",
   "execution_count": 43,
   "metadata": {},
   "outputs": [
    {
     "data": {
      "text/plain": [
       "tensor([ 1.4381e-07, -4.5413e-08,  0.0000e+00])"
      ]
     },
     "execution_count": 43,
     "metadata": {},
     "output_type": "execute_result"
    }
   ],
   "source": [
    "(lig_coord - lig_coord.mean(0)).mean(0)"
   ]
  },
  {
   "cell_type": "code",
   "execution_count": 39,
   "metadata": {},
   "outputs": [
    {
     "data": {
      "text/plain": [
       "tensor([[24.9056, 26.1221, 32.7037,  ..., 59.9716, 57.3830, 72.9151],\n",
       "        [25.5268, 26.5024, 33.3077,  ..., 58.4674, 55.8833, 71.4241],\n",
       "        [26.6782, 27.3604, 34.4925,  ..., 57.7209, 55.0941, 70.8719],\n",
       "        ...,\n",
       "        [34.9228, 35.8056, 41.8239,  ..., 46.7359, 44.6136, 58.4612],\n",
       "        [35.0984, 35.6710, 42.1213,  ..., 46.3110, 44.0902, 58.4083],\n",
       "        [30.1799, 31.6070, 37.5665,  ..., 54.0163, 51.6679, 66.3070]])"
      ]
     },
     "execution_count": 39,
     "metadata": {},
     "output_type": "execute_result"
    }
   ],
   "source": [
    "lig_coord = batch.lig.ndata.coord\n",
    "rec_coord = batch.rec.ndata.coord\n",
    "dists = torch.zeros((lig_coord.shape[0], rec_coord.shape[0]))\n",
    "for i, lc in enumerate(lig_coord):\n",
    "    for j, rc in enumerate(rec_coord):\n",
    "        dists[i,j] = torch.linalg.norm(lc - rc)\n",
    "dists"
   ]
  },
  {
   "cell_type": "code",
   "execution_count": 97,
   "metadata": {},
   "outputs": [
    {
     "data": {
      "text/plain": [
       "tensor([[1., 1., 1.,  ..., 0., 0., 0.],\n",
       "        [1., 1., 1.,  ..., 0., 0., 0.],\n",
       "        [1., 1., 1.,  ..., 0., 0., 0.],\n",
       "        ...,\n",
       "        [0., 0., 0.,  ..., 1., 1., 1.],\n",
       "        [0., 0., 0.,  ..., 1., 1., 1.],\n",
       "        [0., 0., 0.,  ..., 1., 1., 1.]])"
      ]
     },
     "execution_count": 97,
     "metadata": {},
     "output_type": "execute_result"
    }
   ],
   "source": [
    "mask = torch.zeros((lig_coord.shape[0], rec_coord.shape[0]))\n",
    "tot_rec = 0\n",
    "tot_lig = 0\n",
    "rec_graph = batch.rec.dgl_batch\n",
    "lig_graph = batch.lig.dgl_batch\n",
    "for r, l in zip(rec_graph.batch_num_nodes(), lig_graph.batch_num_nodes()):\n",
    "    mask[tot_lig:tot_lig+l,tot_rec:tot_rec+r] = 1.0\n",
    "    tot_rec += r\n",
    "    tot_lig += l\n",
    "mask"
   ]
  },
  {
   "cell_type": "code",
   "execution_count": 108,
   "metadata": {},
   "outputs": [
    {
     "data": {
      "text/plain": [
       "tensor([[0.0016, 0.0015, 0.0009,  ..., 0.0000, 0.0000, 0.0000],\n",
       "        [0.0015, 0.0014, 0.0009,  ..., 0.0000, 0.0000, 0.0000],\n",
       "        [0.0014, 0.0013, 0.0008,  ..., 0.0000, 0.0000, 0.0000],\n",
       "        ...,\n",
       "        [0.0000, 0.0000, 0.0000,  ..., 0.0005, 0.0005, 0.0003],\n",
       "        [0.0000, 0.0000, 0.0000,  ..., 0.0005, 0.0005, 0.0003],\n",
       "        [0.0000, 0.0000, 0.0000,  ..., 0.0003, 0.0004, 0.0002]])"
      ]
     },
     "execution_count": 108,
     "metadata": {},
     "output_type": "execute_result"
    }
   ],
   "source": [
    "(1/(torch.cdist(lig_coord, rec_coord))**2)*mask"
   ]
  },
  {
   "cell_type": "code",
   "execution_count": 83,
   "metadata": {},
   "outputs": [],
   "source": [
    "# from datasets.graphs.plot_graph import *\n",
    "# plot_graph(batch_t.lig[0])"
   ]
  },
  {
   "cell_type": "code",
   "execution_count": 23,
   "metadata": {},
   "outputs": [
    {
     "data": {
      "text/plain": [
       "torch.Size([10, 5000])"
      ]
     },
     "execution_count": 23,
     "metadata": {},
     "output_type": "execute_result"
    }
   ],
   "source": [
    "t1 = torch.randn((10, 100))\n",
    "t2 = torch.randn((10, 50))\n",
    "torch.einsum('bi,bj->bij', t1, t2).reshape((t1.size(0), -1)).shape"
   ]
  }
 ],
 "metadata": {
  "kernelspec": {
   "display_name": "Python 3.8.5 ('chem')",
   "language": "python",
   "name": "python3"
  },
  "language_info": {
   "codemirror_mode": {
    "name": "ipython",
    "version": 3
   },
   "file_extension": ".py",
   "mimetype": "text/x-python",
   "name": "python",
   "nbconvert_exporter": "python",
   "pygments_lexer": "ipython3",
   "version": "3.8.5"
  },
  "orig_nbformat": 4,
  "vscode": {
   "interpreter": {
    "hash": "793ba03f2bf20f578292df94672cc007484e9fb1e9f785a224339478cf2774f8"
   }
  }
 },
 "nbformat": 4,
 "nbformat_minor": 2
}
