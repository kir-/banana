{
 "cells": [
  {
   "cell_type": "code",
   "execution_count": 1,
   "metadata": {},
   "outputs": [],
   "source": [
    "import sys\n",
    "sys.path.append('../')\n",
    "\n",
    "%load_ext autoreload\n",
    "%autoreload 2"
   ]
  },
  {
   "cell_type": "code",
   "execution_count": 15,
   "metadata": {},
   "outputs": [],
   "source": [
    "from tqdm import tqdm\n",
    "from copy import deepcopy\n",
    "import torch\n",
    "import torch.nn as nn\n",
    "import torch.nn.functional as F\n",
    "import rdkit\n",
    "import pandas as pd\n",
    "from rdkit import Chem\n",
    "from rdkit.Chem import AllChem\n",
    "from common.cfg_utils import get_config\n",
    "from common.metrics import *\n",
    "from common.losses import *\n",
    "from common.cfg_utils import *\n",
    "from common.old_routine import *\n",
    "from datasets.make_dataset import *\n",
    "from models.gnn_bind import *\n",
    "from models.learnable_ff import LearnableFF\n",
    "from routines.ai_routine import *\n",
    "from terrace.batch import *\n",
    "from terrace.type_data import *\n",
    "from terrace.comp_node import *\n",
    "from torchmetrics import *\n",
    "from datasets.data_types import *\n",
    "from models.val_model import *\n",
    "from datasets.inference_dataset import InferenceDataset\n",
    "from datasets.bigbind_screen import *\n",
    "from datasets.pdbbind import *\n",
    "from datasets.lit_pcba import *\n",
    "import matplotlib.pyplot as plt\n",
    "import seaborn as sns\n",
    "import torch\n",
    "from common.cache import *\n",
    "from glob import glob\n",
    "import wandb\n",
    "from git_timewarp import GitTimeWarp"
   ]
  },
  {
   "cell_type": "code",
   "execution_count": 64,
   "metadata": {},
   "outputs": [],
   "source": [
    "act = InferenceDataset(cfg, \"/home/boris/Data/LIT-PCBA/FEN1/actives.smi\", \"/home/boris/Data/LIT-PCBA/FEN1/5fv7_pocket.pdb\")\n",
    "inact = InferenceDataset(cfg, \"/home/boris/Data/LIT-PCBA/FEN1/inactives.smi\",\"/home/boris/Data/LIT-PCBA/FEN1/5fv7_pocket.pdb\")"
   ]
  },
  {
   "cell_type": "code",
   "execution_count": 67,
   "metadata": {},
   "outputs": [
    {
     "name": "stdout",
     "output_type": "stream",
     "text": [
      "tensor([0.1469])\n"
     ]
    }
   ],
   "source": [
    "banana.eval()\n",
    "with torch.no_grad():\n",
    "    all = []\n",
    "    for i, d in enumerate(act):\n",
    "        if i > 100:\n",
    "            break\n",
    "        all.append(torch.sigmoid(banana(make_batch([d]))))\n",
    "    print(sum(all)/len(all))"
   ]
  },
  {
   "cell_type": "code",
   "execution_count": 68,
   "metadata": {},
   "outputs": [
    {
     "name": "stdout",
     "output_type": "stream",
     "text": [
      "tensor([0.0571])\n"
     ]
    }
   ],
   "source": [
    "banana.eval()\n",
    "with torch.no_grad():\n",
    "    all = []\n",
    "    for i, d in enumerate(inact):\n",
    "        if i > 100:\n",
    "            break\n",
    "        all.append(torch.sigmoid(banana(make_batch([d]))))\n",
    "    print(sum(all)/len(all))"
   ]
  },
  {
   "cell_type": "code",
   "execution_count": 3,
   "metadata": {},
   "outputs": [
    {
     "data": {
      "text/plain": [
       "28"
      ]
     },
     "execution_count": 3,
     "metadata": {},
     "output_type": "execute_result"
    }
   ],
   "source": [
    "cfg = get_config(\"../configs\", \"short_thicc_op_gnn\")\n",
    "cfg.data.sna_frac = None\n",
    "cfg.data.cache = False\n",
    "cfg.data.use_rec = True\n",
    "cfg.data.use_lig = False\n",
    "loader = make_dataloader(cfg, \"val\")\n",
    "in_node = Input(loader.get_type_data())\n",
    "len(loader.dataset[1000].lig.ndata)"
   ]
  },
  {
   "cell_type": "code",
   "execution_count": 5,
   "metadata": {},
   "outputs": [],
   "source": [
    "api = wandb.Api()\n",
    "run_id = \"37jstv82\"\n",
    "run = api.run(f\"{cfg.project}/{run_id}\")\n",
    "cfg = get_run_config(run, cfg)\n",
    "banana = get_old_model(cfg, run, \"v4\")"
   ]
  },
  {
   "cell_type": "code",
   "execution_count": 11,
   "metadata": {},
   "outputs": [],
   "source": [
    "torch.save(banana.state_dict(), \"../banana_final.pt\")"
   ]
  },
  {
   "cell_type": "code",
   "execution_count": 12,
   "metadata": {},
   "outputs": [
    {
     "data": {
      "text/plain": [
       "<All keys matched successfully>"
      ]
     },
     "execution_count": 12,
     "metadata": {},
     "output_type": "execute_result"
    }
   ],
   "source": [
    "in_node = Input(make_batch_td(IsActiveData.get_type_data(cfg)))\n",
    "model = make_model(cfg, in_node)\n",
    "model.load_state_dict(torch.load(\"../outputs/banana_final.pt\"))"
   ]
  },
  {
   "cell_type": "code",
   "execution_count": 166,
   "metadata": {},
   "outputs": [],
   "source": [
    "csv_dict = {\n",
    "    (\"LIT-PCBA\", \"GNINA\"): \"screen_lit_pcba_test_gnina.csv\",\n",
    "    (\"LIT-PCBA\", \"BANANA\"): \"screen_lit_pcba_test_37jstv82_v4.csv\",\n",
    "    (\"LIT-PCBA\", \"BANANA+GNINA\"): \"screen_lit_pcba_test_combo_37jstv82_v4_gnina_0.1.csv\",\n",
    "    (\"BigBind\", \"BANANA\"): \"screen_bigbind_test_37jstv82_v4.csv\"\n",
    "}\n",
    "def create_combined_df(csv_dict):\n",
    "    dfs = []\n",
    "    for (dataset, model), csv in csv_dict.items():\n",
    "        df = pd.read_csv(\"../outputs/\" + csv)\n",
    "        df[\"model\"] = model\n",
    "        df[\"dataset\"] = dataset\n",
    "        if dataset == \"BigBind\":\n",
    "            df = df[df[\"total actives in set\"] == 10].reset_index(drop=True)\n",
    "        dfs.append(df)\n",
    "    return pd.concat(dfs)\n",
    "comb_df = create_combined_df(csv_dict)"
   ]
  },
  {
   "cell_type": "code",
   "execution_count": 168,
   "metadata": {},
   "outputs": [
    {
     "data": {
      "text/html": [
       "<div>\n",
       "<style scoped>\n",
       "    .dataframe tbody tr th:only-of-type {\n",
       "        vertical-align: middle;\n",
       "    }\n",
       "\n",
       "    .dataframe tbody tr th {\n",
       "        vertical-align: top;\n",
       "    }\n",
       "\n",
       "    .dataframe thead th {\n",
       "        text-align: right;\n",
       "    }\n",
       "</style>\n",
       "<table border=\"1\" class=\"dataframe\">\n",
       "  <thead>\n",
       "    <tr style=\"text-align: right;\">\n",
       "      <th></th>\n",
       "      <th>target</th>\n",
       "      <th>acc</th>\n",
       "      <th>bal_acc</th>\n",
       "      <th>auroc</th>\n",
       "      <th>precision</th>\n",
       "      <th>EF1%</th>\n",
       "      <th>NEF1%</th>\n",
       "      <th>total in set</th>\n",
       "      <th>total chosen</th>\n",
       "      <th>total actives chosen</th>\n",
       "      <th>total actives in set</th>\n",
       "      <th>model</th>\n",
       "      <th>dataset</th>\n",
       "    </tr>\n",
       "  </thead>\n",
       "  <tbody>\n",
       "    <tr>\n",
       "      <th>0</th>\n",
       "      <td>GBA</td>\n",
       "      <td>0.000976</td>\n",
       "      <td>0.500208</td>\n",
       "      <td>0.714257</td>\n",
       "      <td>0.000561</td>\n",
       "      <td>9.036694</td>\n",
       "      <td>0.090361</td>\n",
       "      <td>296218</td>\n",
       "      <td>2962</td>\n",
       "      <td>15</td>\n",
       "      <td>166</td>\n",
       "      <td>GNINA</td>\n",
       "      <td>LIT-PCBA</td>\n",
       "    </tr>\n",
       "    <tr>\n",
       "      <th>1</th>\n",
       "      <td>ALDH1</td>\n",
       "      <td>0.050099</td>\n",
       "      <td>0.500241</td>\n",
       "      <td>0.595193</td>\n",
       "      <td>0.049412</td>\n",
       "      <td>1.883799</td>\n",
       "      <td>0.093039</td>\n",
       "      <td>145133</td>\n",
       "      <td>1451</td>\n",
       "      <td>135</td>\n",
       "      <td>7168</td>\n",
       "      <td>GNINA</td>\n",
       "      <td>LIT-PCBA</td>\n",
       "    </tr>\n",
       "    <tr>\n",
       "      <th>2</th>\n",
       "      <td>ADRB2</td>\n",
       "      <td>0.000259</td>\n",
       "      <td>0.500102</td>\n",
       "      <td>0.516175</td>\n",
       "      <td>0.000054</td>\n",
       "      <td>0.000000</td>\n",
       "      <td>0.000000</td>\n",
       "      <td>312500</td>\n",
       "      <td>3125</td>\n",
       "      <td>0</td>\n",
       "      <td>17</td>\n",
       "      <td>GNINA</td>\n",
       "      <td>LIT-PCBA</td>\n",
       "    </tr>\n",
       "    <tr>\n",
       "      <th>3</th>\n",
       "      <td>ESR1_ant</td>\n",
       "      <td>0.020396</td>\n",
       "      <td>0.500101</td>\n",
       "      <td>0.721082</td>\n",
       "      <td>0.020202</td>\n",
       "      <td>5.941176</td>\n",
       "      <td>0.120000</td>\n",
       "      <td>5050</td>\n",
       "      <td>50</td>\n",
       "      <td>6</td>\n",
       "      <td>102</td>\n",
       "      <td>GNINA</td>\n",
       "      <td>LIT-PCBA</td>\n",
       "    </tr>\n",
       "    <tr>\n",
       "      <th>4</th>\n",
       "      <td>ESR1_ago</td>\n",
       "      <td>0.002502</td>\n",
       "      <td>0.500090</td>\n",
       "      <td>0.714525</td>\n",
       "      <td>0.002324</td>\n",
       "      <td>15.373627</td>\n",
       "      <td>0.153846</td>\n",
       "      <td>5596</td>\n",
       "      <td>56</td>\n",
       "      <td>2</td>\n",
       "      <td>13</td>\n",
       "      <td>GNINA</td>\n",
       "      <td>LIT-PCBA</td>\n",
       "    </tr>\n",
       "    <tr>\n",
       "      <th>...</th>\n",
       "      <td>...</td>\n",
       "      <td>...</td>\n",
       "      <td>...</td>\n",
       "      <td>...</td>\n",
       "      <td>...</td>\n",
       "      <td>...</td>\n",
       "      <td>...</td>\n",
       "      <td>...</td>\n",
       "      <td>...</td>\n",
       "      <td>...</td>\n",
       "      <td>...</td>\n",
       "      <td>...</td>\n",
       "      <td>...</td>\n",
       "    </tr>\n",
       "    <tr>\n",
       "      <th>96</th>\n",
       "      <td>KLK7_HUMAN_30_252_0</td>\n",
       "      <td>0.969000</td>\n",
       "      <td>0.489394</td>\n",
       "      <td>0.723535</td>\n",
       "      <td>0.000000</td>\n",
       "      <td>0.000000</td>\n",
       "      <td>0.000000</td>\n",
       "      <td>1000</td>\n",
       "      <td>10</td>\n",
       "      <td>0</td>\n",
       "      <td>10</td>\n",
       "      <td>BANANA</td>\n",
       "      <td>BigBind</td>\n",
       "    </tr>\n",
       "    <tr>\n",
       "      <th>97</th>\n",
       "      <td>AMYP_PIG_16_511_0</td>\n",
       "      <td>0.976000</td>\n",
       "      <td>0.492929</td>\n",
       "      <td>0.773131</td>\n",
       "      <td>0.000000</td>\n",
       "      <td>0.000000</td>\n",
       "      <td>0.000000</td>\n",
       "      <td>1000</td>\n",
       "      <td>10</td>\n",
       "      <td>0</td>\n",
       "      <td>10</td>\n",
       "      <td>BANANA</td>\n",
       "      <td>BigBind</td>\n",
       "    </tr>\n",
       "    <tr>\n",
       "      <th>98</th>\n",
       "      <td>AL1A1_HUMAN_4_501_0</td>\n",
       "      <td>0.988106</td>\n",
       "      <td>0.544126</td>\n",
       "      <td>0.542419</td>\n",
       "      <td>0.001391</td>\n",
       "      <td>10.003601</td>\n",
       "      <td>0.100000</td>\n",
       "      <td>61122</td>\n",
       "      <td>611</td>\n",
       "      <td>1</td>\n",
       "      <td>10</td>\n",
       "      <td>BANANA</td>\n",
       "      <td>BigBind</td>\n",
       "    </tr>\n",
       "    <tr>\n",
       "      <th>99</th>\n",
       "      <td>CP1B1_HUMAN_42_543_0</td>\n",
       "      <td>0.949000</td>\n",
       "      <td>0.726768</td>\n",
       "      <td>0.830303</td>\n",
       "      <td>0.098039</td>\n",
       "      <td>10.000000</td>\n",
       "      <td>0.100000</td>\n",
       "      <td>1000</td>\n",
       "      <td>10</td>\n",
       "      <td>1</td>\n",
       "      <td>10</td>\n",
       "      <td>BANANA</td>\n",
       "      <td>BigBind</td>\n",
       "    </tr>\n",
       "    <tr>\n",
       "      <th>100</th>\n",
       "      <td>MK09_HUMAN_4_363_0</td>\n",
       "      <td>0.892000</td>\n",
       "      <td>0.697980</td>\n",
       "      <td>0.776970</td>\n",
       "      <td>0.046296</td>\n",
       "      <td>20.000000</td>\n",
       "      <td>0.200000</td>\n",
       "      <td>1000</td>\n",
       "      <td>10</td>\n",
       "      <td>2</td>\n",
       "      <td>10</td>\n",
       "      <td>BANANA</td>\n",
       "      <td>BigBind</td>\n",
       "    </tr>\n",
       "  </tbody>\n",
       "</table>\n",
       "<p>146 rows × 13 columns</p>\n",
       "</div>"
      ],
      "text/plain": [
       "                   target       acc   bal_acc     auroc  precision       EF1%  \\\n",
       "0                     GBA  0.000976  0.500208  0.714257   0.000561   9.036694   \n",
       "1                   ALDH1  0.050099  0.500241  0.595193   0.049412   1.883799   \n",
       "2                   ADRB2  0.000259  0.500102  0.516175   0.000054   0.000000   \n",
       "3                ESR1_ant  0.020396  0.500101  0.721082   0.020202   5.941176   \n",
       "4                ESR1_ago  0.002502  0.500090  0.714525   0.002324  15.373627   \n",
       "..                    ...       ...       ...       ...        ...        ...   \n",
       "96    KLK7_HUMAN_30_252_0  0.969000  0.489394  0.723535   0.000000   0.000000   \n",
       "97      AMYP_PIG_16_511_0  0.976000  0.492929  0.773131   0.000000   0.000000   \n",
       "98    AL1A1_HUMAN_4_501_0  0.988106  0.544126  0.542419   0.001391  10.003601   \n",
       "99   CP1B1_HUMAN_42_543_0  0.949000  0.726768  0.830303   0.098039  10.000000   \n",
       "100    MK09_HUMAN_4_363_0  0.892000  0.697980  0.776970   0.046296  20.000000   \n",
       "\n",
       "        NEF1%  total in set  total chosen  total actives chosen  \\\n",
       "0    0.090361        296218          2962                    15   \n",
       "1    0.093039        145133          1451                   135   \n",
       "2    0.000000        312500          3125                     0   \n",
       "3    0.120000          5050            50                     6   \n",
       "4    0.153846          5596            56                     2   \n",
       "..        ...           ...           ...                   ...   \n",
       "96   0.000000          1000            10                     0   \n",
       "97   0.000000          1000            10                     0   \n",
       "98   0.100000         61122           611                     1   \n",
       "99   0.100000          1000            10                     1   \n",
       "100  0.200000          1000            10                     2   \n",
       "\n",
       "     total actives in set   model   dataset  \n",
       "0                     166   GNINA  LIT-PCBA  \n",
       "1                    7168   GNINA  LIT-PCBA  \n",
       "2                      17   GNINA  LIT-PCBA  \n",
       "3                     102   GNINA  LIT-PCBA  \n",
       "4                      13   GNINA  LIT-PCBA  \n",
       "..                    ...     ...       ...  \n",
       "96                     10  BANANA   BigBind  \n",
       "97                     10  BANANA   BigBind  \n",
       "98                     10  BANANA   BigBind  \n",
       "99                     10  BANANA   BigBind  \n",
       "100                    10  BANANA   BigBind  \n",
       "\n",
       "[146 rows x 13 columns]"
      ]
     },
     "execution_count": 168,
     "metadata": {},
     "output_type": "execute_result"
    }
   ],
   "source": [
    "comb_df"
   ]
  },
  {
   "cell_type": "code",
   "execution_count": 163,
   "metadata": {},
   "outputs": [
    {
     "ename": "TypeError",
     "evalue": "_set_ticklabels() missing 1 required positional argument: 'labels'",
     "output_type": "error",
     "traceback": [
      "\u001b[0;31m---------------------------------------------------------------------------\u001b[0m",
      "\u001b[0;31mTypeError\u001b[0m                                 Traceback (most recent call last)",
      "\u001b[0;32m/tmp/ipykernel_1329/586908731.py\u001b[0m in \u001b[0;36m<module>\u001b[0;34m\u001b[0m\n\u001b[1;32m      1\u001b[0m \u001b[0mg\u001b[0m \u001b[0;34m=\u001b[0m \u001b[0msns\u001b[0m\u001b[0;34m.\u001b[0m\u001b[0mbarplot\u001b[0m\u001b[0;34m(\u001b[0m\u001b[0mdata\u001b[0m\u001b[0;34m=\u001b[0m\u001b[0mcomb_df\u001b[0m\u001b[0;34m,\u001b[0m \u001b[0mx\u001b[0m\u001b[0;34m=\u001b[0m\u001b[0;34m\"target\"\u001b[0m\u001b[0;34m,\u001b[0m \u001b[0my\u001b[0m\u001b[0;34m=\u001b[0m\u001b[0;34m\"EF1%\"\u001b[0m\u001b[0;34m,\u001b[0m \u001b[0mhue\u001b[0m\u001b[0;34m=\u001b[0m\u001b[0;34m\"model\"\u001b[0m\u001b[0;34m,\u001b[0m \u001b[0morder\u001b[0m\u001b[0;34m=\u001b[0m\u001b[0mpcba_order\u001b[0m\u001b[0;34m)\u001b[0m\u001b[0;34m\u001b[0m\u001b[0;34m\u001b[0m\u001b[0m\n\u001b[0;32m----> 2\u001b[0;31m \u001b[0mg\u001b[0m\u001b[0;34m.\u001b[0m\u001b[0mset_xticklabels\u001b[0m\u001b[0;34m(\u001b[0m\u001b[0mrotation\u001b[0m\u001b[0;34m=\u001b[0m\u001b[0;36m90\u001b[0m\u001b[0;34m)\u001b[0m\u001b[0;34m\u001b[0m\u001b[0;34m\u001b[0m\u001b[0m\n\u001b[0m",
      "\u001b[0;32m~/miniconda3/envs/chem/lib/python3.8/site-packages/matplotlib/axes/_base.py\u001b[0m in \u001b[0;36mwrapper\u001b[0;34m(self, *args, **kwargs)\u001b[0m\n\u001b[1;32m     61\u001b[0m \u001b[0;34m\u001b[0m\u001b[0m\n\u001b[1;32m     62\u001b[0m         \u001b[0;32mdef\u001b[0m \u001b[0mwrapper\u001b[0m\u001b[0;34m(\u001b[0m\u001b[0mself\u001b[0m\u001b[0;34m,\u001b[0m \u001b[0;34m*\u001b[0m\u001b[0margs\u001b[0m\u001b[0;34m,\u001b[0m \u001b[0;34m**\u001b[0m\u001b[0mkwargs\u001b[0m\u001b[0;34m)\u001b[0m\u001b[0;34m:\u001b[0m\u001b[0;34m\u001b[0m\u001b[0;34m\u001b[0m\u001b[0m\n\u001b[0;32m---> 63\u001b[0;31m             \u001b[0;32mreturn\u001b[0m \u001b[0mget_method\u001b[0m\u001b[0;34m(\u001b[0m\u001b[0mself\u001b[0m\u001b[0;34m)\u001b[0m\u001b[0;34m(\u001b[0m\u001b[0;34m*\u001b[0m\u001b[0margs\u001b[0m\u001b[0;34m,\u001b[0m \u001b[0;34m**\u001b[0m\u001b[0mkwargs\u001b[0m\u001b[0;34m)\u001b[0m\u001b[0;34m\u001b[0m\u001b[0;34m\u001b[0m\u001b[0m\n\u001b[0m\u001b[1;32m     64\u001b[0m \u001b[0;34m\u001b[0m\u001b[0m\n\u001b[1;32m     65\u001b[0m         \u001b[0mwrapper\u001b[0m\u001b[0;34m.\u001b[0m\u001b[0m__module__\u001b[0m \u001b[0;34m=\u001b[0m \u001b[0mowner\u001b[0m\u001b[0;34m.\u001b[0m\u001b[0m__module__\u001b[0m\u001b[0;34m\u001b[0m\u001b[0;34m\u001b[0m\u001b[0m\n",
      "\u001b[0;32m~/miniconda3/envs/chem/lib/python3.8/site-packages/matplotlib/cbook/deprecation.py\u001b[0m in \u001b[0;36mwrapper\u001b[0;34m(*args, **kwargs)\u001b[0m\n\u001b[1;32m    449\u001b[0m                 \u001b[0;34m\"parameter will become keyword-only %(removal)s.\"\u001b[0m\u001b[0;34m,\u001b[0m\u001b[0;34m\u001b[0m\u001b[0;34m\u001b[0m\u001b[0m\n\u001b[1;32m    450\u001b[0m                 name=name, obj_type=f\"parameter of {func.__name__}()\")\n\u001b[0;32m--> 451\u001b[0;31m         \u001b[0;32mreturn\u001b[0m \u001b[0mfunc\u001b[0m\u001b[0;34m(\u001b[0m\u001b[0;34m*\u001b[0m\u001b[0margs\u001b[0m\u001b[0;34m,\u001b[0m \u001b[0;34m**\u001b[0m\u001b[0mkwargs\u001b[0m\u001b[0;34m)\u001b[0m\u001b[0;34m\u001b[0m\u001b[0;34m\u001b[0m\u001b[0m\n\u001b[0m\u001b[1;32m    452\u001b[0m \u001b[0;34m\u001b[0m\u001b[0m\n\u001b[1;32m    453\u001b[0m     \u001b[0;32mreturn\u001b[0m \u001b[0mwrapper\u001b[0m\u001b[0;34m\u001b[0m\u001b[0;34m\u001b[0m\u001b[0m\n",
      "\u001b[0;31mTypeError\u001b[0m: _set_ticklabels() missing 1 required positional argument: 'labels'"
     ]
    },
    {
     "data": {
      "image/png": "[encoded data removed]",
      "text/plain": [
       "<Figure size 432x288 with 1 Axes>"
      ]
     },
     "metadata": {
      "needs_background": "light"
     },
     "output_type": "display_data"
    }
   ],
   "source": [
    "g = sns.barplot(data=comb_df, x=\"target\", y=\"EF1%\", hue=\"model\", order=pcba_order)\n",
    "g.set_xticklabels(rotation=90)"
   ]
  },
  {
   "cell_type": "code",
   "execution_count": 173,
   "metadata": {},
   "outputs": [
    {
     "data": {
      "text/plain": [
       "Text(0.5, 0.98, 'LIT-PCBA performance')"
      ]
     },
     "execution_count": 173,
     "metadata": {},
     "output_type": "execute_result"
    },
    {
     "data": {
      "image/png": "[encoded data removed]",
      "text/plain": [
       "<Figure size 621.575x360 with 1 Axes>"
      ]
     },
     "metadata": {},
     "output_type": "display_data"
    }
   ],
   "source": [
    "\n",
    "sns.set(font_scale=2)\n",
    "pcba_order = list(comb_df.query(\"dataset == 'LIT-PCBA' and model == 'BANANA'\").sort_values(by=\"EF1%\", ascending=False).target)\n",
    "bb_order = list(comb_df.query(\"dataset == 'BigBind' and model == 'BANANA'\").sort_values(by=\"EF1%\", ascending=False).target)\n",
    "# fig, axes = plt.subplots(1,2)\n",
    "g = sns.catplot(x=\"target\", y=\"EF1%\", hue=\"model\",# col=\"dataset\",\n",
    "                data=comb_df,\n",
    "                order=pcba_order,\n",
    "                hue_order = [ 'BANANA', 'GNINA', 'BANANA+GNINA' ],\n",
    "                # sharex = False,\n",
    "                # aspect=2,\n",
    "                kind='bar')\n",
    "\n",
    "g.set_xticklabels(rotation=90)\n",
    "g.fig.suptitle(\"LIT-PCBA performance\")\n",
    "# g.savefig(\"../outputs/lit_pcba.png\")"
   ]
  },
  {
   "cell_type": "code",
   "execution_count": 176,
   "metadata": {},
   "outputs": [
    {
     "data": {
      "text/plain": [
       "0.0"
      ]
     },
     "execution_count": 176,
     "metadata": {},
     "output_type": "execute_result"
    }
   ],
   "source": [
    "comb_df.query(\"dataset == 'BigBind'\")[\"NEF1%\"].median()"
   ]
  },
  {
   "cell_type": "code",
   "execution_count": 156,
   "metadata": {},
   "outputs": [
    {
     "name": "stdout",
     "output_type": "stream",
     "text": [
      "e2ebind EF1% mean: 3.970 median: 2.56\n",
      "gnina EF1% mean: 4.638 median: 1.88\n",
      "e2ebind+gnina EF1% mean: 3.789 median: 2.97\n"
     ]
    }
   ],
   "source": [
    "for model in ['e2ebind', 'gnina', 'e2ebind+gnina']:\n",
    "    ef1s = comb_df.query(\"dataset == 'LIT-PCBA' and model == @model\")[\"EF1%\"]\n",
    "    print(f\"{model} EF1% mean: {ef1s.mean():.3f} median: {ef1s.median():.2f}\")"
   ]
  },
  {
   "cell_type": "code",
   "execution_count": null,
   "metadata": {},
   "outputs": [],
   "source": [
    "g = sns.barplot(data=df, x=\"target\", y=\"EF1%\")\n",
    "g.set_xticklabels(g.get_xticklabels(), rotation=-80)"
   ]
  },
  {
   "cell_type": "code",
   "execution_count": 20,
   "metadata": {},
   "outputs": [
    {
     "data": {
      "image/png": "[encoded data removed]",
      "text/plain": [
       "<Figure size 226.05x216 with 2 Axes>"
      ]
     },
     "metadata": {},
     "output_type": "display_data"
    }
   ],
   "source": [
    "titanic = sns.load_dataset(\"titanic\")\n",
    "sns.set_style('whitegrid')\n",
    "g = sns.catplot(x=\"deck\", hue=\"alive\", col=\"sex\",\n",
    "                data=titanic[titanic.deck.notnull()],\n",
    "                height=3, kind='count', aspect=.4, palette='Set1')\n",
    "for ax in g.axes.flat[1:]:\n",
    "    sns.despine(ax=ax, left=True)\n",
    "for ax in g.axes.flat:\n",
    "    ax.set_xlabel(ax.get_title())\n",
    "    ax.set_title('')\n",
    "    ax.margins(x=0.1) # slightly more margin as a separation\n",
    "plt.subplots_adjust(wspace=0, bottom=0.18, left=0.06)\n",
    "plt.show()"
   ]
  },
  {
   "cell_type": "code",
   "execution_count": null,
   "metadata": {},
   "outputs": [],
   "source": [
    "y1 = np.random.randn(5)\n",
    "y2 = np.random.randn(15)\n",
    "\n",
    "fig, (ax1, ax2) = plt.subplots(1,2, sharey=True)\n",
    "for y, ax in ((y1, ax1), (y2, ax2)):\n",
    "    x = np.arange(len(y))\n",
    "    rects = ax.bar(x, y, width=2)"
   ]
  },
  {
   "cell_type": "code",
   "execution_count": null,
   "metadata": {},
   "outputs": [],
   "source": [
    "mol = Chem.MolFromSmiles(loader.dataset.activities.lig_smiles[0])\n",
    "Chem.Draw.MolToFile(mol, \"../outputs/ex_mol.png\")"
   ]
  },
  {
   "cell_type": "code",
   "execution_count": null,
   "metadata": {},
   "outputs": [],
   "source": [
    "targ = BigBindScreenDataset.get_all_targets(cfg, \"val\")[0]\n",
    "dataset = BigBindScreenDataset(cfg, targ, \"val\")"
   ]
  },
  {
   "cell_type": "code",
   "execution_count": null,
   "metadata": {},
   "outputs": [],
   "source": [
    "sorted(vals, key=lambda x: -x)"
   ]
  },
  {
   "cell_type": "code",
   "execution_count": null,
   "metadata": {},
   "outputs": [],
   "source": [
    "api = wandb.Api()\n",
    "run_id = \"1nhqz8vw\"\n",
    "run = api.run(f\"{cfg.project}/{run_id}\")"
   ]
  },
  {
   "cell_type": "code",
   "execution_count": null,
   "metadata": {},
   "outputs": [],
   "source": [
    "artifact = get_weight_artifact(run)\n",
    "out_filename = f\"../outputs/lit_pca_results_{run_id}_{artifact.version}.csv\""
   ]
  },
  {
   "cell_type": "code",
   "execution_count": null,
   "metadata": {},
   "outputs": [],
   "source": [
    "df = pd.read_csv(out_filename)"
   ]
  },
  {
   "cell_type": "code",
   "execution_count": null,
   "metadata": {},
   "outputs": [],
   "source": [
    "df = df.sort_values(by=\"EF1%\", ascending=False)"
   ]
  },
  {
   "cell_type": "code",
   "execution_count": null,
   "metadata": {},
   "outputs": [],
   "source": [
    "prior_lit_pcba = pd.read_csv(\"../prior_work/lit_pcba.csv\")\n",
    "prior_lit_pcba = prior_lit_pcba.set_index(\"target\")"
   ]
  },
  {
   "cell_type": "code",
   "execution_count": null,
   "metadata": {},
   "outputs": [],
   "source": [
    "name2csv = {\n",
    "    \"e2ebind\": \"../outputs/val_screen_1nhqz8vw_v0.csv\",\n",
    "    \"vina\": \"../outputs/val_screen_vina.csv\",\n",
    "}"
   ]
  },
  {
   "cell_type": "code",
   "execution_count": null,
   "metadata": {},
   "outputs": [],
   "source": [
    "sorted_df.query(\"`total actives in set` > 1\")"
   ]
  },
  {
   "cell_type": "code",
   "execution_count": null,
   "metadata": {},
   "outputs": [],
   "source": [
    "import matplotlib.pyplot as plt\n",
    "import numpy as np\n",
    "\n",
    "def make_screen_fig(cfg, name2csv, sort_key=\"e2ebind\", min_actives=10):\n",
    "\n",
    "    name2df = {}\n",
    "    for name, csv in name2csv.items():\n",
    "        df = pd.read_csv(csv).set_index(\"target\")\n",
    "        df = df.query(\"`total actives in set` >= @min_actives\")\n",
    "        name2df[name] = df\n",
    "    sorted_df = name2df[sort_key]\n",
    "    sorted_df = sorted_df.sort_values(by=\"EF1%\", ascending=False)\n",
    "\n",
    "    fig, ax = plt.subplots()\n",
    "    x = np.arange(len(sorted_df))\n",
    "    width = 0.25\n",
    "\n",
    "    name2ef1 = {}\n",
    "    for i, (name, df) in enumerate(name2df.items()):\n",
    "        ef1_scores = df[\"EF1%\"][sorted_df.index]\n",
    "        name2ef1[name] = ef1_scores\n",
    "        rects = ax.bar(x + width*(i-1)/2, ef1_scores, width, label=name)\n",
    "\n",
    "    # Add some text for labels, title and custom x-axis tick labels, etc.\n",
    "    ax.set_ylabel('EF1%')\n",
    "    ax.set_title(\"Performance on BigBind Screen\")\n",
    "    ax.set_xticks(x)\n",
    "    targets = [ t.split(\"_\")[0] for t in sorted_df.index ]\n",
    "    ax.set_xticklabels(targets, rotation='vertical')\n",
    "    ax.set_xlabel(\"Target\")\n",
    "    ax.legend()\n",
    "\n",
    "    fig.set_size_inches(15, 5)\n",
    "    fig.tight_layout()\n",
    "    out_filename = \"../outputs/val_screen_results.png\"\n",
    "    fig.savefig(out_filename, transparent=False)\n",
    "\n",
    "make_screen_fig(cfg, name2csv)"
   ]
  },
  {
   "cell_type": "code",
   "execution_count": null,
   "metadata": {},
   "outputs": [],
   "source": [
    "run_ids = [\"1nhqz8vw\", \"1socj7qg\" ]\n",
    "name2model = {}\n",
    "api = wandb.Api()\n",
    "for run_id in run_ids:\n",
    "    run = api.run(f\"{cfg.project}/{run_id}\") # wandb.init(project=cfg.project, id=run_id, resume=True)\n",
    "    cfg = get_run_config(run, cfg)\n",
    "    artifact = api.artifact(f\"{cfg.project}/model-{run.id}:latest\", type='model')\n",
    "    artifact_dir = artifact.download()\n",
    "    checkpoint_file = artifact_dir + \"/model.ckpt\"\n",
    "    routine = AIRoutine.from_checkpoint(cfg, checkpoint_file)\n",
    "    name2model[run.name] = routine.model"
   ]
  },
  {
   "cell_type": "code",
   "execution_count": null,
   "metadata": {},
   "outputs": [],
   "source": [
    "import pandas as pd\n",
    "from glob import glob\n",
    "from datasets.graphs.mol_graph import MolGraph, mol_graph_from_sdf\n",
    "from datasets.graphs.prot_graph import ProtGraph, prot_graph_from_pdb\n",
    "from datasets.data_types import ActivityData, IsActiveData\n",
    "from terrace.batch import make_batch\n",
    "\n",
    "for screen_csv in glob(cfg.platform.bigbind_dir + \"/val_screens/*.csv\"):\n",
    "    screen_df = pd.read_csv(screen_csv)\n",
    "    break"
   ]
  },
  {
   "cell_type": "code",
   "execution_count": null,
   "metadata": {},
   "outputs": [],
   "source": [
    "batch_size = 16\n",
    "batch_arr = []\n",
    "for i, row in tqdm(screen_df.iterrows()):\n",
    "    lig_file = cfg.platform.bigbind_dir + \"/\" + row.lig_file\n",
    "    rec_file = cfg.platform.bigbind_dir + \"/\" + row.ex_rec_file\n",
    "    lig_graph = mol_graph_from_sdf(cfg, lig_file)\n",
    "    rec_graph = prot_graph_from_pdb(cfg, rec_file)\n",
    "    is_active = torch.tensor(row.active, dtype=bool)\n",
    "    data = IsActiveData(lig_graph, rec_graph, is_active)\n",
    "    batch_arr.append(data)\n",
    "    if i == batch_size:\n",
    "        break"
   ]
  },
  {
   "cell_type": "code",
   "execution_count": null,
   "metadata": {},
   "outputs": [],
   "source": [
    "batch = make_batch(batch_arr)"
   ]
  },
  {
   "cell_type": "code",
   "execution_count": null,
   "metadata": {},
   "outputs": [],
   "source": [
    "for name, model in name2model.items():\n",
    "    print(name, model(batch))"
   ]
  },
  {
   "cell_type": "code",
   "execution_count": null,
   "metadata": {},
   "outputs": [],
   "source": [
    "batch = next(iter(loader))"
   ]
  },
  {
   "cell_type": "code",
   "execution_count": null,
   "metadata": {},
   "outputs": [],
   "source": [
    "model = make_model(cfg, in_node)"
   ]
  },
  {
   "cell_type": "code",
   "execution_count": null,
   "metadata": {},
   "outputs": [],
   "source": [
    "outputs = model(batch)\n",
    "norm_outs = torch.sigmoid(outputs)\n",
    "print(outputs)\n",
    "print(norm_outs)\n",
    "print(batch.is_active)"
   ]
  },
  {
   "cell_type": "code",
   "execution_count": null,
   "metadata": {},
   "outputs": [],
   "source": [
    "preds = (norm_outs > 0.5)\n",
    "tpr = sum((preds == batch.is_active) & batch.is_active) / sum(batch.is_active)\n",
    "tnr = sum((preds == batch.is_active) & ~batch.is_active) / sum(~batch.is_active)\n",
    "0.5*(tpr + tnr)"
   ]
  },
  {
   "cell_type": "code",
   "execution_count": null,
   "metadata": {},
   "outputs": [],
   "source": [
    "for key, met in get_metrics(cfg).items():\n",
    "    print(key, met(outputs, batch))"
   ]
  },
  {
   "cell_type": "code",
   "execution_count": null,
   "metadata": {},
   "outputs": [],
   "source": [
    "activities = loader.dataset.activities"
   ]
  },
  {
   "cell_type": "code",
   "execution_count": null,
   "metadata": {},
   "outputs": [],
   "source": [
    "from datasets.graphs.mol_graph import *\n",
    "sdf_file = cfg.platform.bigbind_dir + \"/\" + activities.lig_file[0]\n",
    "get_node_and_edge_nums_from_sdf(cfg, sdf_file)"
   ]
  },
  {
   "cell_type": "code",
   "execution_count": null,
   "metadata": {},
   "outputs": [],
   "source": [
    "from datasets.graphs.prot_graph import *\n",
    "pdb_file = cfg.platform.bigbind_dir + \"/\" + activities.ex_rec_file[0]\n",
    "get_node_and_edge_nums_from_pdb(cfg, pdb_file)"
   ]
  },
  {
   "cell_type": "code",
   "execution_count": null,
   "metadata": {},
   "outputs": [],
   "source": [
    "from datasets.cacheable_dataset import *\n",
    "cfg.platform.cache_dir + \"/\" + cfg.dataset + \"/\" + get_dataset_hash(cfg) + \"/graph_sizes.csv\""
   ]
  },
  {
   "cell_type": "code",
   "execution_count": null,
   "metadata": {},
   "outputs": [],
   "source": [
    "from datasets.edge_num_sampler import *\n",
    "cfg = get_config(\"../configs\", \"short_thicc_op_gnn\")\n",
    "sampler = EdgeNumSampler(cfg, loader.dataset)\n",
    "for sample in sampler:\n",
    "    print(sample)\n",
    "    break"
   ]
  },
  {
   "cell_type": "code",
   "execution_count": null,
   "metadata": {},
   "outputs": [],
   "source": [
    "activities.lig_smiles.str.len().argmax()"
   ]
  },
  {
   "cell_type": "code",
   "execution_count": null,
   "metadata": {},
   "outputs": [],
   "source": [
    "activities.lig_file[42638]"
   ]
  },
  {
   "cell_type": "code",
   "execution_count": null,
   "metadata": {},
   "outputs": [],
   "source": [
    "for b in loader.dataset:\n",
    "    print(len(b.lig.edata))"
   ]
  },
  {
   "cell_type": "code",
   "execution_count": null,
   "metadata": {},
   "outputs": [],
   "source": [
    "b = loader.dataset[42638]\n",
    "len(b.rec.edata), len(b.rec.ndata)"
   ]
  },
  {
   "cell_type": "code",
   "execution_count": null,
   "metadata": {},
   "outputs": [],
   "source": [
    "b.lig.edata.batch_size"
   ]
  },
  {
   "cell_type": "code",
   "execution_count": null,
   "metadata": {},
   "outputs": [],
   "source": [
    "b.lig.ndata.cat_feat"
   ]
  },
  {
   "cell_type": "code",
   "execution_count": null,
   "metadata": {},
   "outputs": [],
   "source": [
    "for batch in loader:\n",
    "    print(len(batch.lig.edata), len(batch.lig.ndata))"
   ]
  },
  {
   "cell_type": "code",
   "execution_count": null,
   "metadata": {},
   "outputs": [],
   "source": [
    "bal_acc = Accuracy(average=\"macro\", num_classes=2, multiclass=True)\n",
    "bal_acc(norm_outs, batch.is_active)"
   ]
  },
  {
   "cell_type": "code",
   "execution_count": null,
   "metadata": {},
   "outputs": [],
   "source": [
    "activities = loader.dataset.activities\n",
    "activities"
   ]
  },
  {
   "cell_type": "code",
   "execution_count": null,
   "metadata": {},
   "outputs": [],
   "source": [
    "nn.ModuleDict({\"train_metric\": nn.Linear(10, 10)})"
   ]
  },
  {
   "cell_type": "code",
   "execution_count": null,
   "metadata": {},
   "outputs": [],
   "source": [
    "dataset = make_dataset(cfg, \"val\")"
   ]
  },
  {
   "cell_type": "code",
   "execution_count": null,
   "metadata": {},
   "outputs": [],
   "source": [
    "sum(dataset.activities.active)/len(dataset.activities)"
   ]
  },
  {
   "cell_type": "code",
   "execution_count": null,
   "metadata": {},
   "outputs": [],
   "source": [
    "torch.tensor(energies).var()"
   ]
  },
  {
   "cell_type": "code",
   "execution_count": null,
   "metadata": {},
   "outputs": [],
   "source": [
    "from datasets.vina_score import VinaScoreDataset\n",
    "dataset = VinaScoreDataset(cfg, \"train\")"
   ]
  },
  {
   "cell_type": "code",
   "execution_count": null,
   "metadata": {},
   "outputs": [],
   "source": [
    "(torch.randn((3,))*2).tolist()"
   ]
  },
  {
   "cell_type": "code",
   "execution_count": null,
   "metadata": {},
   "outputs": [],
   "source": [
    "lig_file = dataset.lig_files[0]\n",
    "lig = next(Chem.SDMolSupplier(lig_file, sanitize=True))\n",
    "conf = lig.GetConformer()\n",
    "lig_center = Chem.rdMolTransforms.ComputeCentroid(conf)\n",
    "new_pos = lig_center + conf.GetAtomPosition(0)\n",
    "print(conf.GetAtomPosition(0).x)\n",
    "conf.SetAtomPosition(0, new_pos)\n",
    "print(conf.GetAtomPosition(0).x)"
   ]
  },
  {
   "cell_type": "code",
   "execution_count": null,
   "metadata": {},
   "outputs": [],
   "source": [
    "lig = Chem.MolFromSmiles(smiles)"
   ]
  },
  {
   "cell_type": "code",
   "execution_count": null,
   "metadata": {},
   "outputs": [],
   "source": [
    "batch = next(iter(loader))"
   ]
  },
  {
   "cell_type": "code",
   "execution_count": null,
   "metadata": {},
   "outputs": [],
   "source": [
    "cfg = get_config(\"../configs\", \"outer_prod_gnn\")\n",
    "# cfg.model.type\n",
    "model = make_model(cfg, in_node)\n",
    "y_pred = model(batch)\n",
    "y_pred"
   ]
  },
  {
   "cell_type": "code",
   "execution_count": null,
   "metadata": {},
   "outputs": [],
   "source": [
    "cfg = get_config(\"../configs\", \"learnable_ff\")\n",
    "model = LearnableFF(cfg, in_node)\n",
    "y_pred = model(batch)"
   ]
  },
  {
   "cell_type": "code",
   "execution_count": null,
   "metadata": {},
   "outputs": [],
   "source": [
    "get_losses(cfg, batch, y_pred)"
   ]
  },
  {
   "cell_type": "code",
   "execution_count": null,
   "metadata": {},
   "outputs": [],
   "source": [
    "torch.einsum('lf,rf->lr', lig_feat, rec_feat).shape"
   ]
  },
  {
   "cell_type": "code",
   "execution_count": null,
   "metadata": {},
   "outputs": [],
   "source": [
    "lig_feat.device"
   ]
  },
  {
   "cell_type": "code",
   "execution_count": null,
   "metadata": {},
   "outputs": [],
   "source": [
    "rot, _ = torch.linalg.qr(torch.randn((3,3)))\n",
    "trans = torch.randn(3,)\n",
    "# torch.linalg.det(rand_rot)\n",
    "# torch.einsum(\"ij,jk->ik\")\n",
    "coord = batch.lig.ndata.coord\n",
    "trans_coord = torch.einsum('ij,bj->bi',rot,coord) + trans"
   ]
  },
  {
   "cell_type": "code",
   "execution_count": null,
   "metadata": {},
   "outputs": [],
   "source": [
    "batch_t = deepcopy(batch)\n",
    "batch_t.lig.ndata.coord = trans_coord"
   ]
  },
  {
   "cell_type": "code",
   "execution_count": null,
   "metadata": {},
   "outputs": [],
   "source": [
    "(lig_coord - lig_coord.mean(0)).mean(0)"
   ]
  },
  {
   "cell_type": "code",
   "execution_count": null,
   "metadata": {},
   "outputs": [],
   "source": [
    "lig_coord = batch.lig.ndata.coord\n",
    "rec_coord = batch.rec.ndata.coord\n",
    "dists = torch.zeros((lig_coord.shape[0], rec_coord.shape[0]))\n",
    "for i, lc in enumerate(lig_coord):\n",
    "    for j, rc in enumerate(rec_coord):\n",
    "        dists[i,j] = torch.linalg.norm(lc - rc)\n",
    "dists"
   ]
  },
  {
   "cell_type": "code",
   "execution_count": null,
   "metadata": {},
   "outputs": [],
   "source": [
    "mask = torch.zeros((lig_coord.shape[0], rec_coord.shape[0]))\n",
    "tot_rec = 0\n",
    "tot_lig = 0\n",
    "rec_graph = batch.rec.dgl_batch\n",
    "lig_graph = batch.lig.dgl_batch\n",
    "for r, l in zip(rec_graph.batch_num_nodes(), lig_graph.batch_num_nodes()):\n",
    "    mask[tot_lig:tot_lig+l,tot_rec:tot_rec+r] = 1.0\n",
    "    tot_rec += r\n",
    "    tot_lig += l\n",
    "mask"
   ]
  },
  {
   "cell_type": "code",
   "execution_count": null,
   "metadata": {},
   "outputs": [],
   "source": [
    "(1/(torch.cdist(lig_coord, rec_coord))**2)*mask"
   ]
  },
  {
   "cell_type": "code",
   "execution_count": null,
   "metadata": {},
   "outputs": [],
   "source": [
    "# from datasets.graphs.plot_graph import *\n",
    "# plot_graph(batch_t.lig[0])"
   ]
  },
  {
   "cell_type": "code",
   "execution_count": null,
   "metadata": {},
   "outputs": [],
   "source": [
    "t1 = torch.randn((10, 100))\n",
    "t2 = torch.randn((10, 50))\n",
    "torch.einsum('bi,bj->bij', t1, t2).reshape((t1.size(0), -1)).shape"
   ]
  }
 ],
 "metadata": {
  "kernelspec": {
   "display_name": "Python 3.8.5 ('chem')",
   "language": "python",
   "name": "python3"
  },
  "language_info": {
   "codemirror_mode": {
    "name": "ipython",
    "version": 3
   },
   "file_extension": ".py",
   "mimetype": "text/x-python",
   "name": "python",
   "nbconvert_exporter": "python",
   "pygments_lexer": "ipython3",
   "version": "3.8.5"
  },
  "orig_nbformat": 4,
  "vscode": {
   "interpreter": {
    "hash": "793ba03f2bf20f578292df94672cc007484e9fb1e9f785a224339478cf2774f8"
   }
  }
 },
 "nbformat": 4,
 "nbformat_minor": 2
}
