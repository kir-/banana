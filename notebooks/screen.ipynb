{
 "cells": [
  {
   "cell_type": "code",
   "execution_count": 1,
   "metadata": {},
   "outputs": [],
   "source": [
    "import sys\n",
    "sys.path.append('../')\n",
    "sys.path.insert(0, '../terrace')\n",
    "\n",
    "%load_ext autoreload\n",
    "%autoreload 2"
   ]
  },
  {
   "cell_type": "code",
   "execution_count": 77,
   "metadata": {},
   "outputs": [],
   "source": [
    "import pickle\n",
    "import torch\n",
    "import wandb\n",
    "import pandas as pd\n",
    "from glob import glob\n",
    "from git_timewarp import GitTimeWarp\n",
    "from tqdm import tqdm\n",
    "import random\n",
    "\n",
    "from datasets.graphs.mol_graph import MolGraph, mol_graph_from_sdf\n",
    "from datasets.graphs.prot_graph import ProtGraph, prot_graph_from_pdb\n",
    "from datasets.data_types import ActivityData, IsActiveData\n",
    "from terrace.batch import make_batch\n",
    "from routines.ai_routine import AIRoutine\n",
    "from common.cfg_utils import get_config, get_run_config\n",
    "\n",
    "from screen import *"
   ]
  },
  {
   "cell_type": "code",
   "execution_count": 50,
   "metadata": {},
   "outputs": [
    {
     "name": "stdout",
     "output_type": "stream",
     "text": [
      "Loading models...\n"
     ]
    }
   ],
   "source": [
    "cfg = get_config(\"../configs\", \"short_thicc_op_gnn\")\n",
    "run_ids = [\"1nhqz8vw\"] #, \"1socj7qg\" ]\n",
    "name2model = get_name_to_model(cfg, run_ids)"
   ]
  },
  {
   "cell_type": "code",
   "execution_count": 52,
   "metadata": {},
   "outputs": [],
   "source": [
    "for screen_csv in glob(cfg.platform.bigbind_dir + \"/val_screens/*.csv\"):\n",
    "    break"
   ]
  },
  {
   "cell_type": "code",
   "execution_count": 53,
   "metadata": {},
   "outputs": [
    {
     "name": "stdout",
     "output_type": "stream",
     "text": [
      "Getting batches for CAH2_HUMAN_2_260_0\n"
     ]
    },
    {
     "name": "stderr",
     "output_type": "stream",
     "text": [
      "100%|██████████| 996/996 [01:06<00:00, 14.97it/s]\n"
     ]
    }
   ],
   "source": [
    "screen_df = pd.read_csv(screen_csv)\n",
    "batches = get_batches(cfg, screen_df)\n",
    "preds = []\n",
    "with torch.no_grad():\n",
    "    for batch in tqdm(batches):\n",
    "        preds.append(model(batch))"
   ]
  },
  {
   "cell_type": "code",
   "execution_count": 67,
   "metadata": {},
   "outputs": [],
   "source": [
    "cache_folder = cfg.platform.cache_dir + \"/screen_preds/\" + screen_df.pocket[0] + \"/\"\n",
    "cache_file = cache_folder + name + \".pkl\"\n",
    "os.makedirs(cache_folder, exist_ok=True)"
   ]
  },
  {
   "cell_type": "code",
   "execution_count": 90,
   "metadata": {},
   "outputs": [
    {
     "name": "stdout",
     "output_type": "stream",
     "text": [
      "Loading models...\n",
      "Screening CAH2_HUMAN_2_260_0\n",
      "Getting batches for CAH2_HUMAN_2_260_0\n",
      "Predicting with short_thicc\n"
     ]
    }
   ],
   "source": [
    "results = screen_all(cfg, run_ids)"
   ]
  },
  {
   "cell_type": "code",
   "execution_count": 97,
   "metadata": {},
   "outputs": [
    {
     "data": {
      "text/html": [
       "<div>\n",
       "<style scoped>\n",
       "    .dataframe tbody tr th:only-of-type {\n",
       "        vertical-align: middle;\n",
       "    }\n",
       "\n",
       "    .dataframe tbody tr th {\n",
       "        vertical-align: top;\n",
       "    }\n",
       "\n",
       "    .dataframe thead th {\n",
       "        text-align: right;\n",
       "    }\n",
       "</style>\n",
       "<table border=\"1\" class=\"dataframe\">\n",
       "  <thead>\n",
       "    <tr style=\"text-align: right;\">\n",
       "      <th></th>\n",
       "      <th>aaaa</th>\n",
       "      <th>bbbb</th>\n",
       "    </tr>\n",
       "  </thead>\n",
       "  <tbody>\n",
       "    <tr>\n",
       "      <th>b</th>\n",
       "      <td>4</td>\n",
       "      <td>4</td>\n",
       "    </tr>\n",
       "  </tbody>\n",
       "</table>\n",
       "</div>"
      ],
      "text/plain": [
       "   aaaa  bbbb\n",
       "b     4     4"
      ]
     },
     "execution_count": 97,
     "metadata": {},
     "output_type": "execute_result"
    }
   ],
   "source": [
    "pd.DataFrame({\"aaaa\": {'b': 4}, \"bbbb\": {\"b\": 4}})"
   ]
  },
  {
   "cell_type": "code",
   "execution_count": 142,
   "metadata": {},
   "outputs": [
    {
     "data": {
      "text/html": [
       "<div>\n",
       "<style scoped>\n",
       "    .dataframe tbody tr th:only-of-type {\n",
       "        vertical-align: middle;\n",
       "    }\n",
       "\n",
       "    .dataframe tbody tr th {\n",
       "        vertical-align: top;\n",
       "    }\n",
       "\n",
       "    .dataframe thead th {\n",
       "        text-align: right;\n",
       "    }\n",
       "</style>\n",
       "<table border=\"1\" class=\"dataframe\">\n",
       "  <thead>\n",
       "    <tr style=\"text-align: right;\">\n",
       "      <th></th>\n",
       "      <th>pocket</th>\n",
       "      <th>short_thicc_efi</th>\n",
       "      <th>short_thicc_nefi</th>\n",
       "      <th>rand_efi</th>\n",
       "      <th>rand_nefi</th>\n",
       "    </tr>\n",
       "  </thead>\n",
       "  <tbody>\n",
       "    <tr>\n",
       "      <th>0</th>\n",
       "      <td>CAH2_HUMAN_2_260_0</td>\n",
       "      <td>0.1</td>\n",
       "      <td>0.1</td>\n",
       "      <td>0.0</td>\n",
       "      <td>0.0</td>\n",
       "    </tr>\n",
       "    <tr>\n",
       "      <th>1</th>\n",
       "      <td>AAAAAA</td>\n",
       "      <td>0.1</td>\n",
       "      <td>0.1</td>\n",
       "      <td>0.0</td>\n",
       "      <td>0.0</td>\n",
       "    </tr>\n",
       "  </tbody>\n",
       "</table>\n",
       "</div>"
      ],
      "text/plain": [
       "               pocket  short_thicc_efi  short_thicc_nefi  rand_efi  rand_nefi\n",
       "0  CAH2_HUMAN_2_260_0              0.1               0.1       0.0        0.0\n",
       "1              AAAAAA              0.1               0.1       0.0        0.0"
      ]
     },
     "execution_count": 142,
     "metadata": {},
     "output_type": "execute_result"
    }
   ],
   "source": [
    "def results_to_df(results):\n",
    "    rows = []\n",
    "    for pocket, poc_res in results.items():\n",
    "        row = { \"pocket\": pocket }\n",
    "        for model_name, metrics in poc_res.items():\n",
    "            for met_name, metric in metrics.items():\n",
    "                row[f\"{model_name}_{met_name}\"] = metric\n",
    "        rows.append(row)\n",
    "    return pd.DataFrame(rows)\n",
    "results_to_df(results)"
   ]
  },
  {
   "cell_type": "code",
   "execution_count": 141,
   "metadata": {},
   "outputs": [],
   "source": [
    "results[\"AAAAAA\"] = results[\"CAH2_HUMAN_2_260_0\"]"
   ]
  },
  {
   "cell_type": "code",
   "execution_count": 125,
   "metadata": {},
   "outputs": [
    {
     "data": {
      "text/plain": [
       "{'CAH2_HUMAN_2_260_0': {'short_thicc': {'efi': 0.1, 'nefi': 0.1},\n",
       "  'rand': {'efi': 0.0, 'nefi': 0.0}},\n",
       " 'AAAAAA': {'short_thicc': {'efi': 0.1, 'nefi': 0.1},\n",
       "  'rand': {'efi': 0.0, 'nefi': 0.0}}}"
      ]
     },
     "execution_count": 125,
     "metadata": {},
     "output_type": "execute_result"
    }
   ],
   "source": [
    "results"
   ]
  },
  {
   "cell_type": "code",
   "execution_count": 145,
   "metadata": {},
   "outputs": [
    {
     "name": "stdout",
     "output_type": "stream",
     "text": [
      "outputs/val_screen_results.csv\n"
     ]
    }
   ],
   "source": [
    "def save_results(results):\n",
    "    os.makedirs(\"outputs\", exist_ok=True)\n",
    "    df = results_to_df(results)\n",
    "    out_file = \"outputs/val_screen_results.csv\"\n",
    "    print(out_file)\n",
    "    df.to_csv(out_file, index=False)\n",
    "save_results(results)"
   ]
  }
 ],
 "metadata": {
  "kernelspec": {
   "display_name": "Python 3.8.5 ('chem')",
   "language": "python",
   "name": "python3"
  },
  "language_info": {
   "codemirror_mode": {
    "name": "ipython",
    "version": 3
   },
   "file_extension": ".py",
   "mimetype": "text/x-python",
   "name": "python",
   "nbconvert_exporter": "python",
   "pygments_lexer": "ipython3",
   "version": "3.8.5"
  },
  "orig_nbformat": 4,
  "vscode": {
   "interpreter": {
    "hash": "793ba03f2bf20f578292df94672cc007484e9fb1e9f785a224339478cf2774f8"
   }
  }
 },
 "nbformat": 4,
 "nbformat_minor": 2
}
