{
 "cells": [
  {
   "cell_type": "code",
   "execution_count": 1,
   "metadata": {},
   "outputs": [],
   "source": [
    "import sys\n",
    "sys.path.append('../')\n",
    "\n",
    "%load_ext autoreload\n",
    "%autoreload 2"
   ]
  },
  {
   "cell_type": "code",
   "execution_count": 2,
   "metadata": {},
   "outputs": [],
   "source": [
    "from rdkit import Chem\n",
    "from rdkit.Chem import AllChem\n",
    "from common.cfg_utils import get_config\n",
    "\n",
    "cfg = get_config(\"../configs\")\n",
    "cfg.data[\"cache\"] = False"
   ]
  },
  {
   "cell_type": "code",
   "execution_count": 3,
   "metadata": {},
   "outputs": [],
   "source": [
    "import warnings\n",
    "from Bio.PDB import PDBParser\n",
    "from Bio.PDB.Model import Model\n",
    "from Bio.PDB.PDBExceptions import PDBConstructionWarning"
   ]
  },
  {
   "cell_type": "code",
   "execution_count": 3,
   "metadata": {},
   "outputs": [
    {
     "name": "stderr",
     "output_type": "stream",
     "text": [
      "[15:44:42] Molecule does not have explicit Hs. Consider calling AddHs()\n"
     ]
    },
    {
     "data": {
      "text/plain": [
       "0"
      ]
     },
     "execution_count": 3,
     "metadata": {},
     "output_type": "execute_result"
    }
   ],
   "source": [
    "mol = Chem.MolFromSmiles(\"c1ccccc1\")\n",
    "AllChem.EmbedMolecule(mol)"
   ]
  },
  {
   "cell_type": "code",
   "execution_count": 3,
   "metadata": {},
   "outputs": [],
   "source": [
    "from datasets.graphs.mol_graph import MolGraph, AtomNode, BondEdge\n",
    "atom_td = AtomNode.get_type_data(cfg.data.lig_graph)\n",
    "bond_td = BondEdge.get_type_data(cfg.data.lig_graph)"
   ]
  },
  {
   "cell_type": "code",
   "execution_count": 6,
   "metadata": {},
   "outputs": [
    {
     "data": {
      "text/plain": [
       "TypeData[MolGraph[ndata=Batch[AtomNode][coord=Tensor[(LN, 3)], cat_feat=Tensor[(LN, 5), dtype=int64, max_values=[10, 12, 6, 3, 10]], scal_feat=Tensor[(LN, 0)]], edata=Batch[BondEdge][cat_feat=Tensor[(LN, 1), dtype=int64, max_values=[4]], scal_feat=Tensor[(LN, 0)]]]]"
      ]
     },
     "execution_count": 6,
     "metadata": {},
     "output_type": "execute_result"
    }
   ],
   "source": [
    "MolGraph.get_type_data(cfg)"
   ]
  },
  {
   "cell_type": "code",
   "execution_count": 8,
   "metadata": {},
   "outputs": [
    {
     "data": {
      "text/plain": [
       "<terrace.batch.Batch at 0x7f066ec8e550>"
      ]
     },
     "execution_count": 8,
     "metadata": {},
     "output_type": "execute_result"
    }
   ],
   "source": [
    "MolGraph(cfg, mol).edata"
   ]
  },
  {
   "cell_type": "code",
   "execution_count": 4,
   "metadata": {},
   "outputs": [],
   "source": [
    "from terrace.batch import make_batch_td, BatchTD, Batch\n",
    "from terrace.graph import GraphTD\n",
    "# make_batch_td(GraphTD(MolGraph, atom_td, atom_td))"
   ]
  },
  {
   "cell_type": "code",
   "execution_count": 17,
   "metadata": {},
   "outputs": [
    {
     "data": {
      "text/plain": [
       "TypeData[ProtGraph[ndata=Batch[ProtResidueNode][coord=Tensor[(RN, 3)], cat_feat=Tensor[(RN, 1), dtype=int64, max_values=[38]], scal_feat=Tensor[(RN, 0)]], edata=Batch[DistEdge][cat_feat=Tensor[(RN, 0), dtype=int64, max_values=[]], scal_feat=Tensor[(RN, 1)]]]]"
      ]
     },
     "execution_count": 17,
     "metadata": {},
     "output_type": "execute_result"
    }
   ],
   "source": [
    "from datasets.graphs.prot_graph import ProtGraph, prot_graph_from_pdb\n",
    "pdb_file = \"/home/boris/Data/BigBindNew/PH4H_CHRVO_1_297_0/4q3x_A_rec_pocket.pdb\"\n",
    "ProtGraph.get_type_data(cfg)"
   ]
  },
  {
   "cell_type": "code",
   "execution_count": 9,
   "metadata": {},
   "outputs": [
    {
     "data": {
      "text/plain": [
       "ShapeVar[B]"
      ]
     },
     "execution_count": 9,
     "metadata": {},
     "output_type": "execute_result"
    }
   ],
   "source": [
    "from datasets.data_types import ActivityData\n",
    "make_batch_td(ActivityData.get_type_data(cfg)).rec.batch_size"
   ]
  },
  {
   "cell_type": "code",
   "execution_count": 6,
   "metadata": {},
   "outputs": [],
   "source": [
    "from datasets.make_dataset import make_dataloader\n",
    "cfg.data.rec_graph.node_type = \"atom\"\n",
    "loader = make_dataloader(cfg, \"val\")"
   ]
  },
  {
   "cell_type": "code",
   "execution_count": 40,
   "metadata": {},
   "outputs": [
    {
     "name": "stdout",
     "output_type": "stream",
     "text": [
      "!\n"
     ]
    }
   ],
   "source": [
    "print(\"!\")\n",
    "loader.get_type_data().rec.ndata"
   ]
  }
 ],
 "metadata": {
  "kernelspec": {
   "display_name": "Python 3.8.5 ('chem')",
   "language": "python",
   "name": "python3"
  },
  "language_info": {
   "codemirror_mode": {
    "name": "ipython",
    "version": 3
   },
   "file_extension": ".py",
   "mimetype": "text/x-python",
   "name": "python",
   "nbconvert_exporter": "python",
   "pygments_lexer": "ipython3",
   "version": "3.8.5"
  },
  "orig_nbformat": 4,
  "vscode": {
   "interpreter": {
    "hash": "793ba03f2bf20f578292df94672cc007484e9fb1e9f785a224339478cf2774f8"
   }
  }
 },
 "nbformat": 4,
 "nbformat_minor": 2
}
